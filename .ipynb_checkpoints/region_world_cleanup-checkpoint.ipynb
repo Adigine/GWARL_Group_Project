{
 "cells": [
  {
   "cell_type": "code",
   "execution_count": 72,
   "metadata": {},
   "outputs": [],
   "source": [
    "import pandas as pd\n",
    "import numpy as np\n",
    "import matplotlib as plt\n",
    "\n",
    "csv_flit = \"Resources/female_literacy.csv\"\n",
    "csv_mlit = \"Resources/male_literacy.csv\"\n",
    "csv_mort = \"Resources/mortality_under5.csv\"\n",
    "\n",
    "# Labor force participation rate, female (% of female population ages 15+) \n",
    "fem_lit = pd.read_csv(csv_flit)\n",
    "male_lit = pd.read_csv(csv_mlit)\n",
    "mort_data = pd.read_csv(csv_mort)"
   ]
  },
  {
   "cell_type": "code",
   "execution_count": 74,
   "metadata": {},
   "outputs": [],
   "source": [
    "#ALL WB GROUPS including world\n",
    "#Fem literacy data has no value for 2017, but keeping it to compare with other indicators\n",
    "\n",
    "world_groups = ['EAS','ECS','FCS','HPC','LCN','LDC','LIC','LMC','MEA','MIC','SAS','SSF','UMC','WLD','EUU']\n",
    "                \n",
    "def clean_df(df):\n",
    "    df.index = df['Country Code']\n",
    "    df = df[df['Country Code'].isin(world_groups)]\n",
    "    df = df.drop(columns=['Indicator Code', 'Country Code',\n",
    "       '1960', '1961', '1962', '1963', '1964', '1965', '1966', '1967', '1968',\n",
    "       '1969', '1970', '1971', '1972', '1973', '1974', '1975', '1976', '1977',\n",
    "       '1978', '1979', '1980', '1981', '1982', '1983', '1984', '1985', '1986',\n",
    "       '1987', '1988', '1989'])\n",
    "    df = df.dropna(how='any', thresh=3)\n",
    "    return df\n",
    "\n",
    "fem_lit_world= clean_df(fem_lit)\n",
    "male_lit_world= clean_df(male_lit)\n",
    "mortdata_world= clean_df(mort_data)"
   ]
  },
  {
   "cell_type": "code",
   "execution_count": 63,
   "metadata": {},
   "outputs": [],
   "source": [
    "#Regional groups and world - check excel file 'WB Groupings List' for info on groupings\n",
    "\n",
    "regional_groups = ['EAS','ECS','LCN','MEA','SAS','SSF','WLD']\n",
    "                \n",
    "def cleanregion_df(df):\n",
    "    df.index = df['Country Code']\n",
    "    df = df[df['Country Code'].isin(regional_groups)]\n",
    "    df = df.drop(columns=['Indicator Code', 'Country Code',\n",
    "       '1960', '1961', '1962', '1963', '1964', '1965', '1966', '1967', '1968',\n",
    "       '1969', '1970', '1971', '1972', '1973', '1974', '1975', '1976', '1977',\n",
    "       '1978', '1979', '1980', '1981', '1982', '1983', '1984', '1985', '1986',\n",
    "       '1987', '1988', '1989'])\n",
    "    df = df.dropna(how='any', thresh=3)\n",
    "    return df\n",
    "\n",
    "fem_lit_reg = cleanregion_df(fem_lit)\n",
    "male_lit_reg = cleanregion_df(male_lit)"
   ]
  },
  {
   "cell_type": "code",
   "execution_count": 64,
   "metadata": {},
   "outputs": [],
   "source": [
    "#Income groups and world. The EU will be used as an indicator for HICs as field for HICs in WB csv is empty.\n",
    "\n",
    "income_groups = ['LIC','LMC','MIC','UMC','WLD','EUU']\n",
    "                \n",
    "def cleanincome_df(df):\n",
    "    df.index = df['Country Code']\n",
    "    df = df[df['Country Code'].isin(income_groups)]\n",
    "    df = df.drop(columns=['Indicator Code', 'Country Code',\n",
    "       '1960', '1961', '1962', '1963', '1964', '1965', '1966', '1967', '1968',\n",
    "       '1969', '1970', '1971', '1972', '1973', '1974', '1975', '1976', '1977',\n",
    "       '1978', '1979', '1980', '1981', '1982', '1983', '1984', '1985', '1986',\n",
    "       '1987', '1988', '1989'])\n",
    "    df = df.dropna(how='any', thresh=3)\n",
    "    return df\n",
    "\n",
    "fem_lit_inc = cleanincome_df(fem_lit)\n",
    "male_lit_inc = cleanincome_df(male_lit)"
   ]
  },
  {
   "cell_type": "code",
   "execution_count": 65,
   "metadata": {},
   "outputs": [],
   "source": [
    "#Fragile and conflict affected, Heavily indebted poor countries, Least Developed countries, and world\n",
    "other_groups = ['FCS', 'HPC', 'LDC', 'WLD']\n",
    "\n",
    "def cleanotr_df(df):\n",
    "    df.index = df['Country Code']\n",
    "    df = df[df['Country Code'].isin(other_groups)]\n",
    "    df = df.drop(columns=['Indicator Code', 'Country Code',\n",
    "       '1960', '1961', '1962', '1963', '1964', '1965', '1966', '1967', '1968',\n",
    "       '1969', '1970', '1971', '1972', '1973', '1974', '1975', '1976', '1977',\n",
    "       '1978', '1979', '1980', '1981', '1982', '1983', '1984', '1985', '1986',\n",
    "       '1987', '1988', '1989'])\n",
    "    df = df.dropna(how='any', thresh=3)\n",
    "    return df\n",
    "\n",
    "fem_lit_otr = cleanotr_df(fem_lit)\n",
    "male_lit_otr = cleanotr_df(male_lit)"
   ]
  },
  {
   "cell_type": "code",
   "execution_count": 66,
   "metadata": {},
   "outputs": [],
   "source": [
    "#Ratios"
   ]
  },
  {
   "cell_type": "code",
   "execution_count": 67,
   "metadata": {},
   "outputs": [],
   "source": [
    "#ALL WB Groups - Male and Female Ratio\n",
    "\n",
    "litall_ratio = fem_lit_world[['1990', '1991', '1992', '1993', '1994', '1995',\n",
    "       '1996', '1997', '1998', '1999', '2000', '2001', '2002', '2003', '2004',\n",
    "       '2005', '2006', '2007', '2008', '2009', '2010', '2011', '2012', '2013',\n",
    "       '2014', '2015', '2016', '2017']] / male_lit_world[['1990', '1991', '1992', '1993', '1994', '1995',\n",
    "       '1996', '1997', '1998', '1999', '2000', '2001', '2002', '2003', '2004',\n",
    "       '2005', '2006', '2007', '2008', '2009', '2010', '2011', '2012', '2013',\n",
    "       '2014', '2015', '2016', '2017']]\n",
    "\n",
    "#litall_ratio"
   ]
  },
  {
   "cell_type": "code",
   "execution_count": 68,
   "metadata": {},
   "outputs": [],
   "source": [
    "#By Regional Groups - Male and Female Ratio\n",
    "\n",
    "litreg_ratio = fem_lit_reg[['1990', '1991', '1992', '1993', '1994', '1995',\n",
    "       '1996', '1997', '1998', '1999', '2000', '2001', '2002', '2003', '2004',\n",
    "       '2005', '2006', '2007', '2008', '2009', '2010', '2011', '2012', '2013',\n",
    "       '2014', '2015', '2016', '2017']] / male_lit_reg[['1990', '1991', '1992', '1993', '1994', '1995',\n",
    "       '1996', '1997', '1998', '1999', '2000', '2001', '2002', '2003', '2004',\n",
    "       '2005', '2006', '2007', '2008', '2009', '2010', '2011', '2012', '2013',\n",
    "       '2014', '2015', '2016', '2017']]\n",
    "\n",
    "#litreg_ratio"
   ]
  },
  {
   "cell_type": "code",
   "execution_count": 69,
   "metadata": {},
   "outputs": [],
   "source": [
    "#By Income - Male and Female Ratio. EU is included to stand for HICs.\n",
    "\n",
    "litinc_ratio = fem_lit_inc[['1990', '1991', '1992', '1993', '1994', '1995',\n",
    "       '1996', '1997', '1998', '1999', '2000', '2001', '2002', '2003', '2004',\n",
    "       '2005', '2006', '2007', '2008', '2009', '2010', '2011', '2012', '2013',\n",
    "       '2014', '2015', '2016', '2017']] / male_lit_inc[['1990', '1991', '1992', '1993', '1994', '1995',\n",
    "       '1996', '1997', '1998', '1999', '2000', '2001', '2002', '2003', '2004',\n",
    "       '2005', '2006', '2007', '2008', '2009', '2010', '2011', '2012', '2013',\n",
    "       '2014', '2015', '2016', '2017']]\n",
    "\n",
    "#litinc_ratio"
   ]
  },
  {
   "cell_type": "code",
   "execution_count": 60,
   "metadata": {},
   "outputs": [],
   "source": [
    "#Other groupings - Male and Female Ratio\n",
    "\n",
    "litotr_ratio = fem_lit_otr[['1990', '1991', '1992', '1993', '1994', '1995',\n",
    "       '1996', '1997', '1998', '1999', '2000', '2001', '2002', '2003', '2004',\n",
    "       '2005', '2006', '2007', '2008', '2009', '2010', '2011', '2012', '2013',\n",
    "       '2014', '2015', '2016', '2017']] / fem_lit_otr[['1990', '1991', '1992', '1993', '1994', '1995',\n",
    "       '1996', '1997', '1998', '1999', '2000', '2001', '2002', '2003', '2004',\n",
    "       '2005', '2006', '2007', '2008', '2009', '2010', '2011', '2012', '2013',\n",
    "       '2014', '2015', '2016', '2017']]\n",
    "\n",
    "#litotr_ratio"
   ]
  },
  {
   "cell_type": "code",
   "execution_count": 76,
   "metadata": {},
   "outputs": [],
   "source": [
    "litall_ratio.to_csv(\"litall_ratio.csv\")\n",
    "# litreg_ratio.to_csv(\"litreg_ratio.csv\")\n",
    "# litinc_ratio.to_csv(\"litinc_ratio.csv\")\n",
    "# litotr_ratio.to_csv(\"litotr_ratio.csv\")\n",
    "#mortdata_world.to_csv(\"mortdata_world.csv\")"
   ]
  },
  {
   "cell_type": "code",
   "execution_count": null,
   "metadata": {},
   "outputs": [],
   "source": []
  }
 ],
 "metadata": {
  "kernelspec": {
   "display_name": "Python [conda env:PythonData]",
   "language": "python",
   "name": "conda-env-PythonData-py"
  },
  "language_info": {
   "codemirror_mode": {
    "name": "ipython",
    "version": 3
   },
   "file_extension": ".py",
   "mimetype": "text/x-python",
   "name": "python",
   "nbconvert_exporter": "python",
   "pygments_lexer": "ipython3",
   "version": "3.6.5"
  }
 },
 "nbformat": 4,
 "nbformat_minor": 2
}
