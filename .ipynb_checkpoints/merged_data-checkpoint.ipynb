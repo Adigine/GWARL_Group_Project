{
 "cells": [
  {
   "cell_type": "code",
   "execution_count": 38,
   "metadata": {},
   "outputs": [
    {
     "data": {
      "text/plain": [
       "Country Name      264\n",
       "Country Code      264\n",
       "Indicator Name    264\n",
       "Indicator Code    264\n",
       "1960                0\n",
       "1961                0\n",
       "1962                0\n",
       "1963                0\n",
       "1964                0\n",
       "1965                0\n",
       "1966                0\n",
       "1967                0\n",
       "1968                0\n",
       "1969                0\n",
       "1970                3\n",
       "1971                0\n",
       "1972                2\n",
       "1973                3\n",
       "1974                6\n",
       "1975               20\n",
       "1976               28\n",
       "1977               22\n",
       "1978               24\n",
       "1979               30\n",
       "1980               41\n",
       "1981               43\n",
       "1982               32\n",
       "1983               31\n",
       "1984               36\n",
       "1985               38\n",
       "                 ... \n",
       "1988               44\n",
       "1989               50\n",
       "1990               56\n",
       "1991               63\n",
       "1992               48\n",
       "1993               45\n",
       "1994               47\n",
       "1995               45\n",
       "1996               48\n",
       "1997               43\n",
       "1998               45\n",
       "1999               48\n",
       "2000               82\n",
       "2001               70\n",
       "2002               59\n",
       "2003               51\n",
       "2004               58\n",
       "2005               60\n",
       "2006               66\n",
       "2007               75\n",
       "2008               71\n",
       "2009               72\n",
       "2010               86\n",
       "2011               96\n",
       "2012               81\n",
       "2013               69\n",
       "2014               76\n",
       "2015               72\n",
       "2016               55\n",
       "2017                0\n",
       "Length: 62, dtype: int64"
      ]
     },
     "execution_count": 38,
     "metadata": {},
     "output_type": "execute_result"
    }
   ],
   "source": [
    "import pandas as pd\n",
    "import numpy as np\n",
    "\n",
    "csv_labor = \"Resources/labor_force.csv\"\n",
    "csv_literacy = \"Resources/literacy.csv\"\n",
    "\n",
    "labor_df = pd.read_csv(csv_labor)\n",
    "literacy_df = pd.read_csv(csv_literacy)\n",
    "\n",
    "literacy_df.count()"
   ]
  },
  {
   "cell_type": "code",
   "execution_count": 39,
   "metadata": {},
   "outputs": [],
   "source": [
    "merged_df = pd.merge(labor_df, literacy_df, how='inner', on=['Country Code'])\n",
    "# merged_df.count\n",
    "# merged_df_clean = merged_df.loc[:, )\n",
    "merged_df_clean = merged_df.dropna(how='all', axis=1)\n",
    "merged_df_clean = merged_df_clean[['Country Name_x', 'Country Code', 'Indicator Name_x','Country Name_y', 'Indicator Name_y',\n",
    "       'Indicator Code_y','1990_x', '1991_x', '1992_x', '1993_x', '1994_x',\n",
    "       '1995_x', '1996_x', '1997_x', '1998_x', '1999_x', '2000_x', '2001_x',\n",
    "       '2002_x', '2003_x', '2004_x', '2005_x', '2006_x', '2007_x', '2008_x',\n",
    "       '2009_x', '2010_x', '2011_x', '2012_x', '2013_x', '2014_x', '2015_x',\n",
    "       '2016_x','1990_y', '1991_y', '1992_y', '1993_y', '1994_y', '1995_y', '1996_y',\n",
    "       '1997_y', '1998_y', '1999_y', '2000_y', '2001_y', '2002_y', '2003_y',\n",
    "       '2004_y', '2005_y', '2006_y', '2007_y', '2008_y', '2009_y', '2010_y',\n",
    "       '2011_y', '2012_y', '2013_y', '2014_y', '2015_y', '2016_y']]\n",
    "merged_df_clean = merged_df_clean.dropna(how='any')\n",
    "merged_df_clean"
   ]
  },
  {
   "cell_type": "code",
   "execution_count": null,
   "metadata": {},
   "outputs": [],
   "source": []
  }
 ],
 "metadata": {
  "kernelspec": {
   "display_name": "Python [conda env:gwarl]",
   "language": "python",
   "name": "conda-env-gwarl-py"
  },
  "language_info": {
   "codemirror_mode": {
    "name": "ipython",
    "version": 3
   },
   "file_extension": ".py",
   "mimetype": "text/x-python",
   "name": "python",
   "nbconvert_exporter": "python",
   "pygments_lexer": "ipython3",
   "version": "3.6.5"
  }
 },
 "nbformat": 4,
 "nbformat_minor": 2
}
