{
 "cells": [
  {
   "cell_type": "code",
   "execution_count": 11,
   "metadata": {},
   "outputs": [
    {
     "ename": "ImportError",
     "evalue": "dlopen(/anaconda3/envs/PythonData/lib/python3.6/site-packages/fiona/ogrext.cpython-36m-darwin.so, 2): Library not loaded: @rpath/libncurses.6.dylib\n  Referenced from: /anaconda3/envs/PythonData/lib/libspatialite.7.dylib\n  Reason: image not found",
     "output_type": "error",
     "traceback": [
      "\u001b[0;31m---------------------------------------------------------------------------\u001b[0m",
      "\u001b[0;31mImportError\u001b[0m                               Traceback (most recent call last)",
      "\u001b[0;32m<ipython-input-11-b5eb811b7ab1>\u001b[0m in \u001b[0;36m<module>\u001b[0;34m()\u001b[0m\n\u001b[1;32m      1\u001b[0m \u001b[0;32mimport\u001b[0m \u001b[0mos\u001b[0m\u001b[0;34m\u001b[0m\u001b[0m\n\u001b[0;32m----> 2\u001b[0;31m \u001b[0;32mimport\u001b[0m \u001b[0mgeopandas\u001b[0m \u001b[0;32mas\u001b[0m \u001b[0mgpd\u001b[0m\u001b[0;34m\u001b[0m\u001b[0m\n\u001b[0m\u001b[1;32m      3\u001b[0m \u001b[0;32mimport\u001b[0m \u001b[0mpandas\u001b[0m \u001b[0;32mas\u001b[0m \u001b[0mpd\u001b[0m\u001b[0;34m\u001b[0m\u001b[0m\n\u001b[1;32m      4\u001b[0m \u001b[0;32mimport\u001b[0m \u001b[0mnumpy\u001b[0m \u001b[0;32mas\u001b[0m \u001b[0mnp\u001b[0m\u001b[0;34m\u001b[0m\u001b[0m\n\u001b[1;32m      5\u001b[0m \u001b[0;32mimport\u001b[0m \u001b[0mmatplotlib\u001b[0m \u001b[0;32mas\u001b[0m \u001b[0mplt\u001b[0m\u001b[0;34m\u001b[0m\u001b[0m\n",
      "\u001b[0;32m/anaconda3/envs/PythonData/lib/python3.6/site-packages/geopandas/__init__.py\u001b[0m in \u001b[0;36m<module>\u001b[0;34m()\u001b[0m\n\u001b[1;32m      2\u001b[0m \u001b[0;32mfrom\u001b[0m \u001b[0mgeopandas\u001b[0m\u001b[0;34m.\u001b[0m\u001b[0mgeodataframe\u001b[0m \u001b[0;32mimport\u001b[0m \u001b[0mGeoDataFrame\u001b[0m\u001b[0;34m\u001b[0m\u001b[0m\n\u001b[1;32m      3\u001b[0m \u001b[0;34m\u001b[0m\u001b[0m\n\u001b[0;32m----> 4\u001b[0;31m \u001b[0;32mfrom\u001b[0m \u001b[0mgeopandas\u001b[0m\u001b[0;34m.\u001b[0m\u001b[0mio\u001b[0m\u001b[0;34m.\u001b[0m\u001b[0mfile\u001b[0m \u001b[0;32mimport\u001b[0m \u001b[0mread_file\u001b[0m\u001b[0;34m\u001b[0m\u001b[0m\n\u001b[0m\u001b[1;32m      5\u001b[0m \u001b[0;32mfrom\u001b[0m \u001b[0mgeopandas\u001b[0m\u001b[0;34m.\u001b[0m\u001b[0mio\u001b[0m\u001b[0;34m.\u001b[0m\u001b[0msql\u001b[0m \u001b[0;32mimport\u001b[0m \u001b[0mread_postgis\u001b[0m\u001b[0;34m\u001b[0m\u001b[0m\n\u001b[1;32m      6\u001b[0m \u001b[0;32mfrom\u001b[0m \u001b[0mgeopandas\u001b[0m\u001b[0;34m.\u001b[0m\u001b[0mtools\u001b[0m \u001b[0;32mimport\u001b[0m \u001b[0msjoin\u001b[0m\u001b[0;34m\u001b[0m\u001b[0m\n",
      "\u001b[0;32m/anaconda3/envs/PythonData/lib/python3.6/site-packages/geopandas/io/file.py\u001b[0m in \u001b[0;36m<module>\u001b[0;34m()\u001b[0m\n\u001b[1;32m      1\u001b[0m \u001b[0;32mimport\u001b[0m \u001b[0mos\u001b[0m\u001b[0;34m\u001b[0m\u001b[0m\n\u001b[1;32m      2\u001b[0m \u001b[0;34m\u001b[0m\u001b[0m\n\u001b[0;32m----> 3\u001b[0;31m \u001b[0;32mimport\u001b[0m \u001b[0mfiona\u001b[0m\u001b[0;34m\u001b[0m\u001b[0m\n\u001b[0m\u001b[1;32m      4\u001b[0m \u001b[0;32mimport\u001b[0m \u001b[0mnumpy\u001b[0m \u001b[0;32mas\u001b[0m \u001b[0mnp\u001b[0m\u001b[0;34m\u001b[0m\u001b[0m\n\u001b[1;32m      5\u001b[0m \u001b[0;32mimport\u001b[0m \u001b[0msix\u001b[0m\u001b[0;34m\u001b[0m\u001b[0m\n",
      "\u001b[0;32m/anaconda3/envs/PythonData/lib/python3.6/site-packages/fiona/__init__.py\u001b[0m in \u001b[0;36m<module>\u001b[0;34m()\u001b[0m\n\u001b[1;32m     67\u001b[0m \u001b[0;32mfrom\u001b[0m \u001b[0msix\u001b[0m \u001b[0;32mimport\u001b[0m \u001b[0mstring_types\u001b[0m\u001b[0;34m\u001b[0m\u001b[0m\n\u001b[1;32m     68\u001b[0m \u001b[0;34m\u001b[0m\u001b[0m\n\u001b[0;32m---> 69\u001b[0;31m \u001b[0;32mfrom\u001b[0m \u001b[0mfiona\u001b[0m\u001b[0;34m.\u001b[0m\u001b[0mcollection\u001b[0m \u001b[0;32mimport\u001b[0m \u001b[0mCollection\u001b[0m\u001b[0;34m,\u001b[0m \u001b[0mBytesCollection\u001b[0m\u001b[0;34m,\u001b[0m \u001b[0mvsi_path\u001b[0m\u001b[0;34m\u001b[0m\u001b[0m\n\u001b[0m\u001b[1;32m     70\u001b[0m \u001b[0;32mfrom\u001b[0m \u001b[0mfiona\u001b[0m\u001b[0;34m.\u001b[0m\u001b[0m_drivers\u001b[0m \u001b[0;32mimport\u001b[0m \u001b[0mdriver_count\u001b[0m\u001b[0;34m,\u001b[0m \u001b[0mGDALEnv\u001b[0m\u001b[0;34m\u001b[0m\u001b[0m\n\u001b[1;32m     71\u001b[0m \u001b[0;32mfrom\u001b[0m \u001b[0mfiona\u001b[0m\u001b[0;34m.\u001b[0m\u001b[0mdrvsupport\u001b[0m \u001b[0;32mimport\u001b[0m \u001b[0msupported_drivers\u001b[0m\u001b[0;34m\u001b[0m\u001b[0m\n",
      "\u001b[0;32m/anaconda3/envs/PythonData/lib/python3.6/site-packages/fiona/collection.py\u001b[0m in \u001b[0;36m<module>\u001b[0;34m()\u001b[0m\n\u001b[1;32m      7\u001b[0m \u001b[0;34m\u001b[0m\u001b[0m\n\u001b[1;32m      8\u001b[0m \u001b[0;32mfrom\u001b[0m \u001b[0mfiona\u001b[0m \u001b[0;32mimport\u001b[0m \u001b[0mcompat\u001b[0m\u001b[0;34m\u001b[0m\u001b[0m\n\u001b[0;32m----> 9\u001b[0;31m \u001b[0;32mfrom\u001b[0m \u001b[0mfiona\u001b[0m\u001b[0;34m.\u001b[0m\u001b[0mogrext\u001b[0m \u001b[0;32mimport\u001b[0m \u001b[0mIterator\u001b[0m\u001b[0;34m,\u001b[0m \u001b[0mItemsIterator\u001b[0m\u001b[0;34m,\u001b[0m \u001b[0mKeysIterator\u001b[0m\u001b[0;34m\u001b[0m\u001b[0m\n\u001b[0m\u001b[1;32m     10\u001b[0m \u001b[0;32mfrom\u001b[0m \u001b[0mfiona\u001b[0m\u001b[0;34m.\u001b[0m\u001b[0mogrext\u001b[0m \u001b[0;32mimport\u001b[0m \u001b[0mSession\u001b[0m\u001b[0;34m,\u001b[0m \u001b[0mWritingSession\u001b[0m\u001b[0;34m\u001b[0m\u001b[0m\n\u001b[1;32m     11\u001b[0m from fiona.ogrext import (\n",
      "\u001b[0;31mImportError\u001b[0m: dlopen(/anaconda3/envs/PythonData/lib/python3.6/site-packages/fiona/ogrext.cpython-36m-darwin.so, 2): Library not loaded: @rpath/libncurses.6.dylib\n  Referenced from: /anaconda3/envs/PythonData/lib/libspatialite.7.dylib\n  Reason: image not found"
     ]
    }
   ],
   "source": [
    "import os\n",
    "import geopandas as gpd\n",
    "import pandas as pd\n",
    "import numpy as np\n",
    "import matplotlib as plt\n",
    "from descartes import PolygonPatch\n",
    "#from helpers import slug\n",
    "#%load_ext signature\n",
    "%matplotlib inline\n",
    "\n",
    "csv_fem_lit = \"Resources/female_literacy.csv\"\n",
    "csv_male_lit = \"Resources/male_literacy.csv\"\n",
    "\n",
    "description = \"\"\n",
    "\n",
    "# Labor force participation rate, female (% of female population ages 15+) \n",
    "fem_lit = pd.read_csv(csv_fem_lit)\n",
    "male_lit = pd.read_csv(csv_male_lit)\n",
    "# fem_lit.columns"
   ]
  },
  {
   "cell_type": "code",
   "execution_count": 12,
   "metadata": {},
   "outputs": [],
   "source": [
    "#femalelit_map = gpd.read_file(shapefile)[['ADM0_A3', 'geometry']].to_crs('+proj=robin')\n",
    "#gdf.sample(5)"
   ]
  },
  {
   "cell_type": "code",
   "execution_count": 13,
   "metadata": {},
   "outputs": [
    {
     "ename": "NameError",
     "evalue": "name 'fem_lit' is not defined",
     "output_type": "error",
     "traceback": [
      "\u001b[0;31m---------------------------------------------------------------------------\u001b[0m",
      "\u001b[0;31mNameError\u001b[0m                                 Traceback (most recent call last)",
      "\u001b[0;32m<ipython-input-13-aa8bc1cf8aa0>\u001b[0m in \u001b[0;36m<module>\u001b[0;34m()\u001b[0m\n\u001b[1;32m     39\u001b[0m     \u001b[0;32mreturn\u001b[0m \u001b[0mdf\u001b[0m\u001b[0;34m\u001b[0m\u001b[0m\n\u001b[1;32m     40\u001b[0m \u001b[0;34m\u001b[0m\u001b[0m\n\u001b[0;32m---> 41\u001b[0;31m \u001b[0mfem_lit\u001b[0m \u001b[0;34m=\u001b[0m \u001b[0mclean_df\u001b[0m\u001b[0;34m(\u001b[0m\u001b[0mfem_lit\u001b[0m\u001b[0;34m)\u001b[0m\u001b[0;34m\u001b[0m\u001b[0m\n\u001b[0m\u001b[1;32m     42\u001b[0m \u001b[0mmale_lit\u001b[0m \u001b[0;34m=\u001b[0m \u001b[0mclean_df\u001b[0m\u001b[0;34m(\u001b[0m\u001b[0mmale_lit\u001b[0m\u001b[0;34m)\u001b[0m\u001b[0;34m\u001b[0m\u001b[0m\n\u001b[1;32m     43\u001b[0m \u001b[0;34m\u001b[0m\u001b[0m\n",
      "\u001b[0;31mNameError\u001b[0m: name 'fem_lit' is not defined"
     ]
    }
   ],
   "source": [
    "country_list = ['AFG', 'ALB', 'DZA', 'ASM', 'AND', 'AGO', 'AIA', 'ATG', 'ARG', 'ARM', \n",
    "                'ABW', 'AUS', 'AUT', 'AZE', 'BHS', 'BHR', 'BGD', 'BRB', 'BLR', 'BEL', \n",
    "                'BLX', 'BLZ', 'BEN', 'BMU', 'BTN', 'BOL', 'BIH', 'BWA', 'BAT', 'BRA', \n",
    "                'IOT', 'VGB', 'BRN', 'BGR', 'BFA', 'BDI', 'KHM', 'CMR', 'CAN', 'CPV', \n",
    "                'CYM', 'CAF', 'TCD', 'CHL', 'CHN', 'CXR', 'CCK', 'COL', 'COM', 'ZAR', \n",
    "                'COG', 'COK', 'CRI', 'CIV', 'HRV', 'CUB', 'CYP', 'CZE', 'CSK', 'DNK', \n",
    "                'DJI', 'DMA', 'DOM', 'TMP', 'ECU', 'EGY', 'SLV', 'GNQ', 'ERI', 'EST', \n",
    "                'ETH', 'ETF', 'EUN', 'FRO', 'FLK', 'FJI', 'FIN', 'PCZ', 'ZW1', 'TAN', \n",
    "                'VDR', 'SVR', 'ZPM', 'ATF', 'FRA', 'FRE', 'GUF', 'PYF', 'GAB', 'GMB', \n",
    "                'GAZ', 'GEO', 'DDR', 'DEU', 'GHA', 'GIB', 'GRC', 'GRL', 'GRD', 'GLP', \n",
    "                'GUM', 'GTM', 'GIN', 'GNB', 'GUY', 'HTI', 'VAT', 'HND', 'HKG', 'HUN', \n",
    "                'ISL', 'IND', 'IDN', 'IRN', 'IRQ', 'IRL', 'ISR', 'ITA', 'JAM', 'JPN', \n",
    "                'JTN', 'JOR', 'KAZ', 'KEN', 'KIR', 'PRK', 'KOR', 'KWT', 'KGZ', 'LAO', \n",
    "                'LVA', 'LBN', 'LSO', 'LBR', 'LBY', 'LIE', 'LTU', 'LUX', 'MAC', 'MKD', \n",
    "                'MDG', 'MWI', 'MYS', 'MDV', 'MLI', 'MLT', 'MHL', 'MTQ', 'MRT', 'MUS', \n",
    "                'MEX', 'FSM', 'MID', 'MDA', 'MCO', 'MNG', 'MSR', 'MAR', 'MOZ', 'MMR', \n",
    "                'NAM', 'NRU', 'NPL', 'NLD', 'ANT', 'NZE', 'NCL', 'NZL', 'NIC', 'NER', \n",
    "                'NGA', 'NIU', 'NFK', 'MNP', 'NOR', 'OMN', 'PCE', 'PAK', 'PLW', 'PAN', \n",
    "                'PNG', 'PRY', 'PMY', 'PER', 'PHL', 'PCN', 'POL', 'PRT', 'PRI', 'QAT', \n",
    "                'REU', 'ROM', 'RUS', 'RWA', 'RYU', 'SBH', 'SHN', 'KN1', 'SPM', 'WSM', \n",
    "                'SMR', 'STP', 'SWK', 'SAU', 'SEN', 'SYC', 'SLE', 'SIK', 'SGP', 'SVK', \n",
    "                'SVN', 'SLB', 'SOM', 'ZAF', 'SVU', 'ESP', 'SPE', 'LKA', 'KNA', 'LCA', \n",
    "                'VCT', 'SDN', 'SUR', 'SJM', 'SWZ', 'SWE', 'CHE', 'SYR', 'TWN', 'TJK', \n",
    "                'TZA', 'THA', 'TGO', 'TKL', 'TON', 'TTO', 'TUN', 'TUR', 'TKM', 'TCA', \n",
    "                'TUV', 'UGA', 'UKR', 'ARE', 'GBR', 'USA', 'UNS', 'URY', 'USP', 'UZB', \n",
    "                'VUT', 'VEN', 'VNM', 'VIR', 'WAK', 'WLF', 'ESH', 'WLD', 'YDR', 'YEM', \n",
    "                'SER', 'YUG', 'ZMB', 'ZWE']\n",
    "\n",
    "def clean_df(df):\n",
    "    df.index = df['Country Code']\n",
    "    df = df[df['Country Code'].isin(country_list)]\n",
    "    \n",
    "    df = df.drop(columns=['Indicator Code','Country Code',\n",
    "       '1960', '1961', '1962', '1963', '1964', '1965', '1966', '1967', '1968',\n",
    "       '1969', '1970', '1971', '1972', '1973', '1974', '1975', '1976', '1977',\n",
    "       '1978', '1979', '1980', '1981', '1982', '1983', '1984', '1985', '1986',\n",
    "       '1987', '1988', '1989'])\n",
    "    df = df.dropna(how='any', thresh=3)\n",
    "    return df\n",
    "\n",
    "fem_lit = clean_df(fem_lit)\n",
    "male_lit = clean_df(male_lit)\n",
    "\n",
    "\n",
    "#put back world in the country list"
   ]
  },
  {
   "cell_type": "code",
   "execution_count": 14,
   "metadata": {
    "scrolled": true
   },
   "outputs": [],
   "source": [
    "#fem_lit"
   ]
  },
  {
   "cell_type": "code",
   "execution_count": 15,
   "metadata": {},
   "outputs": [
    {
     "ename": "NameError",
     "evalue": "name 'fem_lit' is not defined",
     "output_type": "error",
     "traceback": [
      "\u001b[0;31m---------------------------------------------------------------------------\u001b[0m",
      "\u001b[0;31mNameError\u001b[0m                                 Traceback (most recent call last)",
      "\u001b[0;32m<ipython-input-15-f46ee283b26e>\u001b[0m in \u001b[0;36m<module>\u001b[0;34m()\u001b[0m\n\u001b[0;32m----> 1\u001b[0;31m lit_ratio = fem_lit[['1990', '1991', '1992', '1993', '1994', '1995',\n\u001b[0m\u001b[1;32m      2\u001b[0m        \u001b[0;34m'1996'\u001b[0m\u001b[0;34m,\u001b[0m \u001b[0;34m'1997'\u001b[0m\u001b[0;34m,\u001b[0m \u001b[0;34m'1998'\u001b[0m\u001b[0;34m,\u001b[0m \u001b[0;34m'1999'\u001b[0m\u001b[0;34m,\u001b[0m \u001b[0;34m'2000'\u001b[0m\u001b[0;34m,\u001b[0m \u001b[0;34m'2001'\u001b[0m\u001b[0;34m,\u001b[0m \u001b[0;34m'2002'\u001b[0m\u001b[0;34m,\u001b[0m \u001b[0;34m'2003'\u001b[0m\u001b[0;34m,\u001b[0m \u001b[0;34m'2004'\u001b[0m\u001b[0;34m,\u001b[0m\u001b[0;34m\u001b[0m\u001b[0m\n\u001b[1;32m      3\u001b[0m        \u001b[0;34m'2005'\u001b[0m\u001b[0;34m,\u001b[0m \u001b[0;34m'2006'\u001b[0m\u001b[0;34m,\u001b[0m \u001b[0;34m'2007'\u001b[0m\u001b[0;34m,\u001b[0m \u001b[0;34m'2008'\u001b[0m\u001b[0;34m,\u001b[0m \u001b[0;34m'2009'\u001b[0m\u001b[0;34m,\u001b[0m \u001b[0;34m'2010'\u001b[0m\u001b[0;34m,\u001b[0m \u001b[0;34m'2011'\u001b[0m\u001b[0;34m,\u001b[0m \u001b[0;34m'2012'\u001b[0m\u001b[0;34m,\u001b[0m \u001b[0;34m'2013'\u001b[0m\u001b[0;34m,\u001b[0m\u001b[0;34m\u001b[0m\u001b[0m\n\u001b[1;32m      4\u001b[0m        \u001b[0;34m'2014'\u001b[0m\u001b[0;34m,\u001b[0m \u001b[0;34m'2015'\u001b[0m\u001b[0;34m,\u001b[0m \u001b[0;34m'2016'\u001b[0m\u001b[0;34m,\u001b[0m \u001b[0;34m'2017'\u001b[0m\u001b[0;34m]\u001b[0m\u001b[0;34m]\u001b[0m \u001b[0;34m/\u001b[0m \u001b[0mmale_lit\u001b[0m\u001b[0;34m[\u001b[0m\u001b[0;34m[\u001b[0m\u001b[0;34m'1990'\u001b[0m\u001b[0;34m,\u001b[0m \u001b[0;34m'1991'\u001b[0m\u001b[0;34m,\u001b[0m \u001b[0;34m'1992'\u001b[0m\u001b[0;34m,\u001b[0m \u001b[0;34m'1993'\u001b[0m\u001b[0;34m,\u001b[0m \u001b[0;34m'1994'\u001b[0m\u001b[0;34m,\u001b[0m \u001b[0;34m'1995'\u001b[0m\u001b[0;34m,\u001b[0m\u001b[0;34m\u001b[0m\u001b[0m\n\u001b[1;32m      5\u001b[0m        \u001b[0;34m'1996'\u001b[0m\u001b[0;34m,\u001b[0m \u001b[0;34m'1997'\u001b[0m\u001b[0;34m,\u001b[0m \u001b[0;34m'1998'\u001b[0m\u001b[0;34m,\u001b[0m \u001b[0;34m'1999'\u001b[0m\u001b[0;34m,\u001b[0m \u001b[0;34m'2000'\u001b[0m\u001b[0;34m,\u001b[0m \u001b[0;34m'2001'\u001b[0m\u001b[0;34m,\u001b[0m \u001b[0;34m'2002'\u001b[0m\u001b[0;34m,\u001b[0m \u001b[0;34m'2003'\u001b[0m\u001b[0;34m,\u001b[0m \u001b[0;34m'2004'\u001b[0m\u001b[0;34m,\u001b[0m\u001b[0;34m\u001b[0m\u001b[0m\n",
      "\u001b[0;31mNameError\u001b[0m: name 'fem_lit' is not defined"
     ]
    }
   ],
   "source": [
    "lit_ratio = fem_lit[['1990', '1991', '1992', '1993', '1994', '1995',\n",
    "       '1996', '1997', '1998', '1999', '2000', '2001', '2002', '2003', '2004',\n",
    "       '2005', '2006', '2007', '2008', '2009', '2010', '2011', '2012', '2013',\n",
    "       '2014', '2015', '2016', '2017']] / male_lit[['1990', '1991', '1992', '1993', '1994', '1995',\n",
    "       '1996', '1997', '1998', '1999', '2000', '2001', '2002', '2003', '2004',\n",
    "       '2005', '2006', '2007', '2008', '2009', '2010', '2011', '2012', '2013',\n",
    "       '2014', '2015', '2016', '2017']]\n",
    "\n",
    "lit_ratio_dif = (fem_lit['2017'] - fem_lit['1990']) / fem_lit['1990']"
   ]
  },
  {
   "cell_type": "code",
   "execution_count": 8,
   "metadata": {},
   "outputs": [],
   "source": [
    "#lit_ratio"
   ]
  },
  {
   "cell_type": "code",
   "execution_count": 9,
   "metadata": {},
   "outputs": [],
   "source": [
    "#lit_ratio.to_csv(\"litratiomap.csv\")"
   ]
  },
  {
   "cell_type": "code",
   "execution_count": 10,
   "metadata": {},
   "outputs": [],
   "source": [
    "# fem_lit.to_csv(\"femlitmap.csv\")"
   ]
  },
  {
   "cell_type": "raw",
   "metadata": {},
   "source": []
  },
  {
   "cell_type": "code",
   "execution_count": null,
   "metadata": {},
   "outputs": [],
   "source": []
  }
 ],
 "metadata": {
  "kernelspec": {
   "display_name": "Python [conda env:PythonData]",
   "language": "python",
   "name": "conda-env-PythonData-py"
  },
  "language_info": {
   "codemirror_mode": {
    "name": "ipython",
    "version": 3
   },
   "file_extension": ".py",
   "mimetype": "text/x-python",
   "name": "python",
   "nbconvert_exporter": "python",
   "pygments_lexer": "ipython3",
   "version": "3.6.5"
  }
 },
 "nbformat": 4,
 "nbformat_minor": 2
}
