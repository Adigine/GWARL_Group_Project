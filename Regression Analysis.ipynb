{
 "cells": [
  {
   "cell_type": "code",
   "execution_count": 61,
   "metadata": {},
   "outputs": [],
   "source": [
    "import pandas as pd\n",
    "import numpy as np\n",
    "import matplotlib as plt\n",
    "from scipy.stats import pearsonr\n",
    "import numpy as np"
   ]
  },
  {
   "cell_type": "code",
   "execution_count": 77,
   "metadata": {},
   "outputs": [],
   "source": [
    "labor_all_csv = 'David_Labor/lab_ratio.csv'\n",
    "labor_all = pd.read_csv(literacy_all_csv)\n",
    "\n",
    "mort_all_csv = 'Resources/mortality_under5.csv'\n",
    "mort_all = pd.read_csv(mort_all_csv)\n",
    "\n",
    "lit_all_csv = 'Resources/lit_ratio.csv'\n",
    "lit_all = pd.read_csv(lit_all_csv)\n",
    "\n",
    "mort_all = mort_all.set_index(\"Country Code\")\n",
    "labor_all = labor_all.set_index(\"Country Code\")\n",
    "lit_all = lit_all.set_index(\"Country Code\")"
   ]
  },
  {
   "cell_type": "code",
   "execution_count": 66,
   "metadata": {},
   "outputs": [],
   "source": [
    "mort_all = mort_all[['1990', '1991', '1992', '1993', '1994', '1995',\n",
    "       '1996', '1997', '1998', '1999', '2000', '2001', '2002', '2003', '2004',\n",
    "       '2005', '2006', '2007', '2008', '2009', '2010', '2011', '2012', '2013',\n",
    "       '2014', '2015', '2016', '2017']] * 1\n",
    "\n",
    "#mort_all"
   ]
  },
  {
   "cell_type": "code",
   "execution_count": 75,
   "metadata": {},
   "outputs": [],
   "source": [
    "mort2017 = mort_all.iloc[:,27]"
   ]
  },
  {
   "cell_type": "code",
   "execution_count": 79,
   "metadata": {},
   "outputs": [],
   "source": [
    "labor2017 = labor_all.iloc[:,27]"
   ]
  },
  {
   "cell_type": "code",
   "execution_count": 87,
   "metadata": {},
   "outputs": [
    {
     "data": {
      "text/plain": [
       "Country Code\n",
       "AFG    0.224571\n",
       "AGO    0.940468\n",
       "ALB    0.727965\n",
       "ARE    0.444782\n",
       "ARG    0.646250\n",
       "ARM    0.728758\n",
       "AUS    0.839596\n",
       "AUT    0.832427\n",
       "AZE    0.905438\n",
       "BDI    1.035647\n",
       "BEL    0.813919\n",
       "BEN    0.939173\n",
       "BFA    0.773687\n",
       "BGD    0.413961\n",
       "BGR    0.802156\n",
       "BHR    0.506440\n",
       "BHS    0.853346\n",
       "BIH    0.599557\n",
       "BLR    0.826921\n",
       "BLZ    0.655249\n",
       "BOL    0.690598\n",
       "BRA    0.711864\n",
       "BRB    0.888824\n",
       "BRN    0.790341\n",
       "BTN    0.781340\n",
       "BWA    0.836678\n",
       "CAF    0.792186\n",
       "CAN    0.869071\n",
       "CHE    0.847918\n",
       "CHL    0.679692\n",
       "         ...   \n",
       "SVN    0.849505\n",
       "SWE    0.902068\n",
       "SWZ    0.634597\n",
       "SYR    0.169202\n",
       "TCD    0.834930\n",
       "TGO    0.955537\n",
       "THA    0.782709\n",
       "TJK    0.620500\n",
       "TKM    0.682183\n",
       "TON    0.608813\n",
       "TTO    0.692486\n",
       "TUN    0.343708\n",
       "TUR    0.449919\n",
       "TZA    0.909382\n",
       "UGA    0.888763\n",
       "UKR    0.745150\n",
       "URY    0.753997\n",
       "USA    0.816415\n",
       "UZB    0.690915\n",
       "VCT    0.730184\n",
       "VEN    0.648778\n",
       "VIR    0.884889\n",
       "VNM    0.877453\n",
       "VUT    0.772998\n",
       "WLD    0.647473\n",
       "WSM    0.610857\n",
       "YEM    0.086140\n",
       "ZAF    0.771555\n",
       "ZMB    0.880370\n",
       "ZWE    0.881365\n",
       "Name: 2017, Length: 180, dtype: float64"
      ]
     },
     "execution_count": 87,
     "metadata": {},
     "output_type": "execute_result"
    }
   ],
   "source": [
    "labor2017"
   ]
  },
  {
   "cell_type": "code",
   "execution_count": 88,
   "metadata": {},
   "outputs": [],
   "source": [
    "litmean = lit_all.iloc[:,0]"
   ]
  },
  {
   "cell_type": "code",
   "execution_count": 89,
   "metadata": {},
   "outputs": [
    {
     "data": {
      "text/plain": [
       "Country Code\n",
       "ABW    0.996469\n",
       "AFG    0.387785\n",
       "AGO    0.660563\n",
       "ALB    0.979400\n",
       "AND    1.000000\n",
       "ARE    1.022269\n",
       "ARG    0.999692\n",
       "ARM    0.996857\n",
       "ASM         NaN\n",
       "ATG    1.010366\n",
       "AUS         NaN\n",
       "AUT         NaN\n",
       "AZE    0.997065\n",
       "BDI    0.745025\n",
       "BEL         NaN\n",
       "BEN    0.463826\n",
       "BFA    0.534923\n",
       "BGD    0.837455\n",
       "BGR    0.990919\n",
       "BHR    0.922669\n",
       "BHS         NaN\n",
       "BIH    0.933961\n",
       "BLR    0.996782\n",
       "BLZ    1.000849\n",
       "BMU         NaN\n",
       "BOL    0.898322\n",
       "BRA    1.005275\n",
       "BRB         NaN\n",
       "BRN    0.937707\n",
       "BTN    0.661554\n",
       "         ...   \n",
       "SYC    1.012535\n",
       "SYR    0.827058\n",
       "TCA         NaN\n",
       "TCD    0.374964\n",
       "TGO    0.624258\n",
       "THA    0.968683\n",
       "TJK    0.995358\n",
       "TKM    0.989296\n",
       "TON    1.001243\n",
       "TTO    0.976043\n",
       "TUN    0.812608\n",
       "TUR    0.882755\n",
       "TUV         NaN\n",
       "TZA    0.842936\n",
       "UGA    0.750368\n",
       "UKR    0.996958\n",
       "URY    1.007249\n",
       "USA         NaN\n",
       "UZB    0.997371\n",
       "VCT         NaN\n",
       "VEN    0.996417\n",
       "VGB         NaN\n",
       "VIR         NaN\n",
       "VNM    0.933975\n",
       "VUT         NaN\n",
       "WSM    0.995913\n",
       "YEM    0.300743\n",
       "ZAF    0.972572\n",
       "ZMB    0.789420\n",
       "ZWE    0.928616\n",
       "Name: Ratio of Female to Male Literacy Rates, Length: 204, dtype: float64"
      ]
     },
     "execution_count": 89,
     "metadata": {},
     "output_type": "execute_result"
    }
   ],
   "source": [
    "litmean"
   ]
  },
  {
   "cell_type": "code",
   "execution_count": null,
   "metadata": {},
   "outputs": [],
   "source": []
  }
 ],
 "metadata": {
  "kernelspec": {
   "display_name": "Python [conda env:PythonData]",
   "language": "python",
   "name": "conda-env-PythonData-py"
  },
  "language_info": {
   "codemirror_mode": {
    "name": "ipython",
    "version": 3
   },
   "file_extension": ".py",
   "mimetype": "text/x-python",
   "name": "python",
   "nbconvert_exporter": "python",
   "pygments_lexer": "ipython3",
   "version": "3.6.5"
  }
 },
 "nbformat": 4,
 "nbformat_minor": 2
}
