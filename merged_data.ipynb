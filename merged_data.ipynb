{
 "cells": [
  {
   "cell_type": "code",
   "execution_count": 2,
   "metadata": {},
   "outputs": [],
   "source": [
    "import pandas as pd\n",
    "import numpy as np\n",
    "\n",
    "csv_labor = \"Resources/labor_force.csv\"\n",
    "csv_literacy = \"Resources/literacy.csv\"\n",
    "\n",
    "labor_df = pd.read_csv(csv_labor)\n",
    "literacy_df = pd.read_csv(csv_literacy)\n",
    "\n",
    "# literacy_df.count()"
   ]
  },
  {
   "cell_type": "code",
   "execution_count": 8,
   "metadata": {},
   "outputs": [],
   "source": [
    "merged_df = pd.merge(labor_df, literacy_df, how='inner', on=['Country Code'])\n",
    "# merged_df_clean = merged_df.loc[:, )\n",
    "merged_df_clean = merged_df.dropna(how='all', axis=1)\n",
    "# merged_df\n",
    "merged_df_clean = merged_df_clean[['Country Name_x', 'Country Code', 'Indicator Name_x','Country Name_y', 'Indicator Name_y',\n",
    "       'Indicator Code_y', '1998_x', '1999_x', '2000_x', '2001_x',\n",
    "       '2002_x', '2003_x', '2004_x', '2005_x', '2006_x', '2007_x', '2008_x',\n",
    "       '2009_x', '2010_x', '2011_x', '2012_x', '2013_x', '2014_x', '2015_x',\n",
    "       '2016_x', '1998_y', '1999_y', '2000_y', '2001_y', '2002_y', '2003_y',\n",
    "       '2004_y', '2005_y', '2006_y', '2007_y', '2008_y', '2009_y', '2010_y',\n",
    "       '2011_y', '2012_y', '2013_y', '2014_y', '2015_y', '2016_y']]\n",
    "# merged_df_clean = merged_df_clean[['Country Name_x', 'Country Code', 'Indicator Name_x','Country Name_y', 'Indicator Name_y',\n",
    "#        'Indicator Code_y', '2000_x', '2005_x', '2010_x', '2015_x', '2000_y', '2005_y', '2010_y','2015_y']]\n",
    "merged_df_clean = merged_df_clean.dropna(how='all', thresh=30, axis=0)\n",
    "merged_df_clean.to_csv('merged_data.csv')\n",
    "# merged_df_clean\n"
   ]
  },
  {
   "cell_type": "code",
   "execution_count": null,
   "metadata": {},
   "outputs": [],
   "source": []
  },
  {
   "cell_type": "code",
   "execution_count": null,
   "metadata": {},
   "outputs": [],
   "source": []
  }
 ],
 "metadata": {
  "kernelspec": {
   "display_name": "Python [conda env:gwarl]",
   "language": "python",
   "name": "conda-env-gwarl-py"
  },
  "language_info": {
   "codemirror_mode": {
    "name": "ipython",
    "version": 3
   },
   "file_extension": ".py",
   "mimetype": "text/x-python",
   "name": "python",
   "nbconvert_exporter": "python",
   "pygments_lexer": "ipython3",
   "version": "3.6.5"
  }
 },
 "nbformat": 4,
 "nbformat_minor": 2
}
