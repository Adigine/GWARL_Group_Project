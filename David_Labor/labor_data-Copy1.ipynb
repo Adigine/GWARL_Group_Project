{
 "cells": [
  {
   "cell_type": "code",
   "execution_count": 1,
   "metadata": {
    "nbpresent": {
     "id": "42d8b3a6-ded5-4abf-bbba-0ec5be6c3169"
    },
    "scrolled": true
   },
   "outputs": [
    {
     "data": {
      "text/plain": [
       "Country Name       object\n",
       "Country Code       object\n",
       "Indicator Name     object\n",
       "Indicator Code     object\n",
       "1960              float64\n",
       "1961              float64\n",
       "1962              float64\n",
       "1963              float64\n",
       "1964              float64\n",
       "1965              float64\n",
       "1966              float64\n",
       "1967              float64\n",
       "1968              float64\n",
       "1969              float64\n",
       "1970              float64\n",
       "1971              float64\n",
       "1972              float64\n",
       "1973              float64\n",
       "1974              float64\n",
       "1975              float64\n",
       "1976              float64\n",
       "1977              float64\n",
       "1978              float64\n",
       "1979              float64\n",
       "1980              float64\n",
       "1981              float64\n",
       "1982              float64\n",
       "1983              float64\n",
       "1984              float64\n",
       "1985              float64\n",
       "                   ...   \n",
       "1988              float64\n",
       "1989              float64\n",
       "1990              float64\n",
       "1991              float64\n",
       "1992              float64\n",
       "1993              float64\n",
       "1994              float64\n",
       "1995              float64\n",
       "1996              float64\n",
       "1997              float64\n",
       "1998              float64\n",
       "1999              float64\n",
       "2000              float64\n",
       "2001              float64\n",
       "2002              float64\n",
       "2003              float64\n",
       "2004              float64\n",
       "2005              float64\n",
       "2006              float64\n",
       "2007              float64\n",
       "2008              float64\n",
       "2009              float64\n",
       "2010              float64\n",
       "2011              float64\n",
       "2012              float64\n",
       "2013              float64\n",
       "2014              float64\n",
       "2015              float64\n",
       "2016              float64\n",
       "2017              float64\n",
       "Length: 62, dtype: object"
      ]
     },
     "execution_count": 1,
     "metadata": {},
     "output_type": "execute_result"
    }
   ],
   "source": [
    "import pandas as pd\n",
    "import numpy as np\n",
    "import matplotlib as plt\n",
    "from scipy.stats import pearsonr\n",
    "import numpy as np\n",
    "\n",
    "csv_fem_lab = \"../Resources/labor_force_female.csv\"\n",
    "csv_male_lab = \"../Resources/labor_male.csv\"\n",
    "csv_total_lab = \"../Resources/labor_total.csv\"\n",
    "csv_lab_perc_fem = \"../Resources/labor_perc_fem.csv\"\n",
    "csv_mortality_5 = \"../Resources/mortality_under5.csv\"\n",
    "\n",
    "\n",
    "# Labor force participation rate(% of population ages 15-64); among women, men, and total\n",
    "fem_lab = pd.read_csv(csv_fem_lab)\n",
    "male_lab = pd.read_csv(csv_male_lab)\n",
    "total_lab = pd.read_csv(csv_total_lab)\n",
    "mortality_under_5 = pd.read_csv(csv_mortality_5)\n",
    "\n",
    "# % of labor force that are women (will reflect any skew in gender proportions in a given country)\n",
    "lab_perc_fem = pd.read_csv(csv_lab_perc_fem)\n",
    "mortality_under_5.dtypes"
   ]
  },
  {
   "cell_type": "code",
   "execution_count": 2,
   "metadata": {
    "nbpresent": {
     "id": "4d238d1e-67da-4038-ae52-cf92d7207f07"
    }
   },
   "outputs": [],
   "source": [
    "# Function to clean up data sets and use only country-level data, no regions or WB categories\n",
    "country_list = ['AFG', 'ALB', 'DZA', 'ASM', 'AND', 'AGO', 'AIA', 'ATG', 'ARG', 'ARM', 'ABW', 'AUS', 'AUT', 'AZE', 'BHS', 'BHR', 'BGD', 'BRB', 'BLR', 'BEL', 'BLX', 'BLZ', 'BEN', 'BMU', 'BTN', 'BOL', 'BIH', 'BWA', 'BAT', 'BRA', 'IOT', 'VGB', 'BRN', 'BGR', 'BFA', 'BDI', 'KHM', 'CMR', 'CAN', 'CPV', 'CYM', 'CAF', 'TCD', 'CHL', 'CHN', 'CXR', 'CCK', 'COL', 'COM', 'ZAR', 'COG', 'COK', 'CRI', 'CIV', 'HRV', 'CUB', 'CYP', 'CZE', 'CSK', 'DNK', 'DJI', 'DMA', 'DOM', 'TMP', 'ECU', 'EGY', 'SLV', 'GNQ', 'ERI', 'EST', 'ETH', 'ETF', 'EUN', 'FRO', 'FLK', 'FJI', 'FIN', 'PCZ', 'ZW1', 'TAN', 'VDR', 'SVR', 'ZPM', 'ATF', 'FRA', 'FRE', 'GUF', 'PYF', 'GAB', 'GMB', 'GAZ', 'GEO', 'DDR', 'DEU', 'GHA', 'GIB', 'GRC', 'GRL', 'GRD', 'GLP', 'GUM', 'GTM', 'GIN', 'GNB', 'GUY', 'HTI', 'VAT', 'HND', 'HKG', 'HUN', 'ISL', 'IND', 'IDN', 'IRN', 'IRQ', 'IRL', 'ISR', 'ITA', 'JAM', 'JPN', 'JTN', 'JOR', 'KAZ', 'KEN', 'KIR', 'PRK', 'KOR', 'KWT', 'KGZ', 'LAO', 'LVA', 'LBN', 'LSO', 'LBR', 'LBY', 'LIE', 'LTU', 'LUX', 'MAC', 'MKD', 'MDG', 'MWI', 'MYS', 'MDV', 'MLI', 'MLT', 'MHL', 'MTQ', 'MRT', 'MUS', 'MEX', 'FSM', 'MID', 'MDA', 'MCO', 'MNG', 'MSR', 'MAR', 'MOZ', 'MMR', 'NAM', 'NRU', 'NPL', 'NLD', 'ANT', 'NZE', 'NCL', 'NZL', 'NIC', 'NER', 'NGA', 'NIU', 'NFK', 'MNP', 'NOR', 'OMN', 'PCE', 'PAK', 'PLW', 'PAN', 'PNG', 'PRY', 'PMY', 'PER', 'PHL', 'PCN', 'POL', 'PRT', 'PRI', 'QAT', 'REU', 'ROM', 'RUS', 'RWA', 'RYU', 'SBH', 'SHN', 'KN1', 'SPM', 'WSM', 'SMR', 'STP', 'SWK', 'SAU', 'SEN', 'SYC', 'SLE', 'SIK', 'SGP', 'SVK', 'SVN', 'SLB', 'SOM', 'ZAF', 'SVU', 'ESP', 'SPE', 'LKA', 'KNA', 'LCA', 'VCT', 'SDN', 'SUR', 'SJM', 'SWZ', 'SWE', 'CHE', 'SYR', 'TWN', 'TJK', 'TZA', 'THA', 'TGO', 'TKL', 'TON', 'TTO', 'TUN', 'TUR', 'TKM', 'TCA', 'TUV', 'UGA', 'UKR', 'ARE', 'GBR', 'USA', 'UNS', 'URY', 'USP', 'UZB', 'VUT', 'VEN', 'VNM', 'VIR', 'WAK', 'WLF', 'ESH', 'WLD', 'YDR', 'YEM', 'SER', 'YUG', 'ZMB', 'ZWE']\n",
    "\n",
    "def clean_df(df):\n",
    "    df.index = df['Country Code']\n",
    "    df = df[df['Country Code'].isin(country_list)]\n",
    "    df = df.drop(columns=['Indicator Code', 'Country Code',\n",
    "       '1960', '1961', '1962', '1963', '1964', '1965', '1966', '1967', '1968',\n",
    "       '1969', '1970', '1971', '1972', '1973', '1974', '1975', '1976', '1977',\n",
    "       '1978', '1979', '1980', '1981', '1982', '1983', '1984', '1985', '1986',\n",
    "       '1987', '1988', '1989'])\n",
    "#     df = df.dropna(how='any', thresh=3)\n",
    "    return df\n",
    "\n",
    "fem_lab = clean_df(fem_lab)\n",
    "male_lab = clean_df(male_lab)\n",
    "total_lab = clean_df(total_lab)\n",
    "lab_perc_fem = clean_df(lab_perc_fem)\n",
    "mortality_under_5 = clean_df(mortality_under_5)"
   ]
  },
  {
   "cell_type": "code",
   "execution_count": 3,
   "metadata": {
    "nbpresent": {
     "id": "49c52585-3e2b-466f-b97d-b3f48b1464cf"
    }
   },
   "outputs": [],
   "source": [
    "mortality_under_5.to_csv('mortality_under5.csv')"
   ]
  },
  {
   "cell_type": "code",
   "execution_count": 4,
   "metadata": {
    "nbpresent": {
     "id": "7f1611c0-f4d1-413d-8391-35722bb8c0e8"
    }
   },
   "outputs": [
    {
     "data": {
      "text/html": [
       "<div>\n",
       "<style scoped>\n",
       "    .dataframe tbody tr th:only-of-type {\n",
       "        vertical-align: middle;\n",
       "    }\n",
       "\n",
       "    .dataframe tbody tr th {\n",
       "        vertical-align: top;\n",
       "    }\n",
       "\n",
       "    .dataframe thead th {\n",
       "        text-align: right;\n",
       "    }\n",
       "</style>\n",
       "<table border=\"1\" class=\"dataframe\">\n",
       "  <thead>\n",
       "    <tr style=\"text-align: right;\">\n",
       "      <th></th>\n",
       "      <th>1990</th>\n",
       "      <th>1991</th>\n",
       "      <th>1992</th>\n",
       "      <th>1993</th>\n",
       "      <th>1994</th>\n",
       "      <th>1995</th>\n",
       "      <th>1996</th>\n",
       "      <th>1997</th>\n",
       "      <th>1998</th>\n",
       "      <th>1999</th>\n",
       "      <th>...</th>\n",
       "      <th>2008</th>\n",
       "      <th>2009</th>\n",
       "      <th>2010</th>\n",
       "      <th>2011</th>\n",
       "      <th>2012</th>\n",
       "      <th>2013</th>\n",
       "      <th>2014</th>\n",
       "      <th>2015</th>\n",
       "      <th>2016</th>\n",
       "      <th>2017</th>\n",
       "    </tr>\n",
       "    <tr>\n",
       "      <th>Country Code</th>\n",
       "      <th></th>\n",
       "      <th></th>\n",
       "      <th></th>\n",
       "      <th></th>\n",
       "      <th></th>\n",
       "      <th></th>\n",
       "      <th></th>\n",
       "      <th></th>\n",
       "      <th></th>\n",
       "      <th></th>\n",
       "      <th></th>\n",
       "      <th></th>\n",
       "      <th></th>\n",
       "      <th></th>\n",
       "      <th></th>\n",
       "      <th></th>\n",
       "      <th></th>\n",
       "      <th></th>\n",
       "      <th></th>\n",
       "      <th></th>\n",
       "      <th></th>\n",
       "    </tr>\n",
       "  </thead>\n",
       "  <tbody>\n",
       "    <tr>\n",
       "      <th>ABW</th>\n",
       "      <td>NaN</td>\n",
       "      <td>NaN</td>\n",
       "      <td>NaN</td>\n",
       "      <td>NaN</td>\n",
       "      <td>NaN</td>\n",
       "      <td>NaN</td>\n",
       "      <td>NaN</td>\n",
       "      <td>NaN</td>\n",
       "      <td>NaN</td>\n",
       "      <td>NaN</td>\n",
       "      <td>...</td>\n",
       "      <td>NaN</td>\n",
       "      <td>NaN</td>\n",
       "      <td>NaN</td>\n",
       "      <td>NaN</td>\n",
       "      <td>NaN</td>\n",
       "      <td>NaN</td>\n",
       "      <td>NaN</td>\n",
       "      <td>NaN</td>\n",
       "      <td>NaN</td>\n",
       "      <td>NaN</td>\n",
       "    </tr>\n",
       "    <tr>\n",
       "      <th>AFG</th>\n",
       "      <td>0.170580</td>\n",
       "      <td>0.171387</td>\n",
       "      <td>0.172137</td>\n",
       "      <td>0.172345</td>\n",
       "      <td>0.172433</td>\n",
       "      <td>0.173226</td>\n",
       "      <td>0.171362</td>\n",
       "      <td>0.169687</td>\n",
       "      <td>0.168608</td>\n",
       "      <td>0.168045</td>\n",
       "      <td>...</td>\n",
       "      <td>0.171435</td>\n",
       "      <td>0.169559</td>\n",
       "      <td>0.169958</td>\n",
       "      <td>0.176328</td>\n",
       "      <td>0.184791</td>\n",
       "      <td>0.194735</td>\n",
       "      <td>0.205303</td>\n",
       "      <td>0.215845</td>\n",
       "      <td>0.223935</td>\n",
       "      <td>0.224571</td>\n",
       "    </tr>\n",
       "    <tr>\n",
       "      <th>AGO</th>\n",
       "      <td>0.921183</td>\n",
       "      <td>0.919662</td>\n",
       "      <td>0.918335</td>\n",
       "      <td>0.914296</td>\n",
       "      <td>0.915948</td>\n",
       "      <td>0.918874</td>\n",
       "      <td>0.919928</td>\n",
       "      <td>0.921029</td>\n",
       "      <td>0.922410</td>\n",
       "      <td>0.923605</td>\n",
       "      <td>...</td>\n",
       "      <td>0.935467</td>\n",
       "      <td>0.935406</td>\n",
       "      <td>0.935750</td>\n",
       "      <td>0.935299</td>\n",
       "      <td>0.935699</td>\n",
       "      <td>0.936869</td>\n",
       "      <td>0.938037</td>\n",
       "      <td>0.939203</td>\n",
       "      <td>0.939573</td>\n",
       "      <td>0.940468</td>\n",
       "    </tr>\n",
       "    <tr>\n",
       "      <th>ALB</th>\n",
       "      <td>0.720141</td>\n",
       "      <td>0.745257</td>\n",
       "      <td>0.749689</td>\n",
       "      <td>0.740724</td>\n",
       "      <td>0.734181</td>\n",
       "      <td>0.726140</td>\n",
       "      <td>0.718269</td>\n",
       "      <td>0.722567</td>\n",
       "      <td>0.715310</td>\n",
       "      <td>0.706948</td>\n",
       "      <td>...</td>\n",
       "      <td>0.722840</td>\n",
       "      <td>0.699076</td>\n",
       "      <td>0.725470</td>\n",
       "      <td>0.731304</td>\n",
       "      <td>0.738176</td>\n",
       "      <td>0.712735</td>\n",
       "      <td>0.701121</td>\n",
       "      <td>0.731665</td>\n",
       "      <td>0.729236</td>\n",
       "      <td>0.727965</td>\n",
       "    </tr>\n",
       "    <tr>\n",
       "      <th>AND</th>\n",
       "      <td>NaN</td>\n",
       "      <td>NaN</td>\n",
       "      <td>NaN</td>\n",
       "      <td>NaN</td>\n",
       "      <td>NaN</td>\n",
       "      <td>NaN</td>\n",
       "      <td>NaN</td>\n",
       "      <td>NaN</td>\n",
       "      <td>NaN</td>\n",
       "      <td>NaN</td>\n",
       "      <td>...</td>\n",
       "      <td>NaN</td>\n",
       "      <td>NaN</td>\n",
       "      <td>NaN</td>\n",
       "      <td>NaN</td>\n",
       "      <td>NaN</td>\n",
       "      <td>NaN</td>\n",
       "      <td>NaN</td>\n",
       "      <td>NaN</td>\n",
       "      <td>NaN</td>\n",
       "      <td>NaN</td>\n",
       "    </tr>\n",
       "  </tbody>\n",
       "</table>\n",
       "<p>5 rows × 28 columns</p>\n",
       "</div>"
      ],
      "text/plain": [
       "                  1990      1991      1992      1993      1994      1995  \\\n",
       "Country Code                                                               \n",
       "ABW                NaN       NaN       NaN       NaN       NaN       NaN   \n",
       "AFG           0.170580  0.171387  0.172137  0.172345  0.172433  0.173226   \n",
       "AGO           0.921183  0.919662  0.918335  0.914296  0.915948  0.918874   \n",
       "ALB           0.720141  0.745257  0.749689  0.740724  0.734181  0.726140   \n",
       "AND                NaN       NaN       NaN       NaN       NaN       NaN   \n",
       "\n",
       "                  1996      1997      1998      1999    ...         2008  \\\n",
       "Country Code                                            ...                \n",
       "ABW                NaN       NaN       NaN       NaN    ...          NaN   \n",
       "AFG           0.171362  0.169687  0.168608  0.168045    ...     0.171435   \n",
       "AGO           0.919928  0.921029  0.922410  0.923605    ...     0.935467   \n",
       "ALB           0.718269  0.722567  0.715310  0.706948    ...     0.722840   \n",
       "AND                NaN       NaN       NaN       NaN    ...          NaN   \n",
       "\n",
       "                  2009      2010      2011      2012      2013      2014  \\\n",
       "Country Code                                                               \n",
       "ABW                NaN       NaN       NaN       NaN       NaN       NaN   \n",
       "AFG           0.169559  0.169958  0.176328  0.184791  0.194735  0.205303   \n",
       "AGO           0.935406  0.935750  0.935299  0.935699  0.936869  0.938037   \n",
       "ALB           0.699076  0.725470  0.731304  0.738176  0.712735  0.701121   \n",
       "AND                NaN       NaN       NaN       NaN       NaN       NaN   \n",
       "\n",
       "                  2015      2016      2017  \n",
       "Country Code                                \n",
       "ABW                NaN       NaN       NaN  \n",
       "AFG           0.215845  0.223935  0.224571  \n",
       "AGO           0.939203  0.939573  0.940468  \n",
       "ALB           0.731665  0.729236  0.727965  \n",
       "AND                NaN       NaN       NaN  \n",
       "\n",
       "[5 rows x 28 columns]"
      ]
     },
     "execution_count": 4,
     "metadata": {},
     "output_type": "execute_result"
    }
   ],
   "source": [
    "lab_ratio = fem_lab[['1990', '1991', '1992', '1993', '1994', '1995',\n",
    "       '1996', '1997', '1998', '1999', '2000', '2001', '2002', '2003', '2004',\n",
    "       '2005', '2006', '2007', '2008', '2009', '2010', '2011', '2012', '2013',\n",
    "       '2014', '2015', '2016', '2017']] / male_lab[['1990', '1991', '1992', '1993', '1994', '1995',\n",
    "       '1996', '1997', '1998', '1999', '2000', '2001', '2002', '2003', '2004',\n",
    "       '2005', '2006', '2007', '2008', '2009', '2010', '2011', '2012', '2013',\n",
    "       '2014', '2015', '2016', '2017']]\n",
    "# lab_ratio_dif = (fem_lab['2017'] - fem_lab['1990']) / fem_lab['1990']\n",
    "lab_ratio.head()"
   ]
  },
  {
   "cell_type": "code",
   "execution_count": 5,
   "metadata": {
    "nbpresent": {
     "id": "94c5663f-7446-469c-9987-690fa18d24bb"
    }
   },
   "outputs": [],
   "source": [
    "lab_ratio.to_csv('lab_ratio.csv')\n",
    "# lab_ratio_dif.to_csv('lab_ratio_dif.csv')"
   ]
  },
  {
   "cell_type": "code",
   "execution_count": 6,
   "metadata": {
    "nbpresent": {
     "id": "7b632d1e-1b6b-4878-ac3d-5d1c3d45d41e"
    }
   },
   "outputs": [],
   "source": [
    "# generating correlation and test of significance between two dataframes\n",
    "\n",
    "# dropping all columns aside from years\n",
    "df1 = male_lab[['1990', '1991', '1992', '1993', '1994', '1995', '1996', '1997', '1998',\n",
    "       '1999', '2000', '2001', '2002', '2003', '2004', '2005', '2006', '2007',\n",
    "       '2008', '2009', '2010', '2011', '2012', '2013', '2014', '2015', '2016',\n",
    "       '2017']]\n",
    "df2 = fem_lab[['1990', '1991', '1992', '1993', '1994', '1995', '1996', '1997', '1998',\n",
    "       '1999', '2000', '2001', '2002', '2003', '2004', '2005', '2006', '2007',\n",
    "       '2008', '2009', '2010', '2011', '2012', '2013', '2014', '2015', '2016',\n",
    "       '2017']]\n",
    "\n",
    "coeffmat = np.zeros((df1.shape[1], 2))\n",
    "\n",
    "for i in range(df1.shape[1]):\n",
    "    corrtest = pearsonr(df1[df1.columns[i]], df2[df2.columns[i]])  \n",
    "    coeffmat[i,0] = corrtest[0]\n",
    "    coeffmat[i,1] = corrtest[1]\n",
    "\n",
    "dfcorrelation = pd.DataFrame(coeffmat, columns={'coeff', 'pval'}, index=df1.columns)\n",
    "# dfpvals = pd.DataFrame(pvalmat, columns=df2.columns, index=df1.columns)"
   ]
  },
  {
   "cell_type": "code",
   "execution_count": 7,
   "metadata": {
    "nbpresent": {
     "id": "e5d2c07a-932b-48bb-b38b-d3fad61d95c7"
    }
   },
   "outputs": [
    {
     "ename": "NameError",
     "evalue": "name 'total_lab_mean' is not defined",
     "output_type": "error",
     "traceback": [
      "\u001b[0;31m---------------------------------------------------------------------------\u001b[0m",
      "\u001b[0;31mNameError\u001b[0m                                 Traceback (most recent call last)",
      "\u001b[0;32m<ipython-input-7-ad64bdc4f212>\u001b[0m in \u001b[0;36m<module>\u001b[0;34m()\u001b[0m\n\u001b[1;32m      5\u001b[0m \u001b[0mfem_lab_min\u001b[0m \u001b[0;34m=\u001b[0m \u001b[0mfem_lab\u001b[0m\u001b[0;34m.\u001b[0m\u001b[0mmin\u001b[0m\u001b[0;34m(\u001b[0m\u001b[0;34m)\u001b[0m\u001b[0;34m\u001b[0m\u001b[0m\n\u001b[1;32m      6\u001b[0m \u001b[0mfem_lab_max\u001b[0m \u001b[0;34m=\u001b[0m \u001b[0mfem_lab\u001b[0m\u001b[0;34m.\u001b[0m\u001b[0mmax\u001b[0m\u001b[0;34m(\u001b[0m\u001b[0;34m)\u001b[0m\u001b[0;34m\u001b[0m\u001b[0m\n\u001b[0;32m----> 7\u001b[0;31m \u001b[0mdfcorrelation\u001b[0m\u001b[0;34m[\u001b[0m\u001b[0;34m'mean total labor participation'\u001b[0m\u001b[0;34m]\u001b[0m \u001b[0;34m=\u001b[0m \u001b[0mtotal_lab_mean\u001b[0m\u001b[0;34m\u001b[0m\u001b[0m\n\u001b[0m\u001b[1;32m      8\u001b[0m \u001b[0mdfcorrelation\u001b[0m\u001b[0;34m[\u001b[0m\u001b[0;34m'min labor participation'\u001b[0m\u001b[0;34m]\u001b[0m \u001b[0;34m=\u001b[0m \u001b[0mtotal_lab_min\u001b[0m\u001b[0;34m\u001b[0m\u001b[0m\n\u001b[1;32m      9\u001b[0m \u001b[0mdfcorrelation\u001b[0m\u001b[0;34m[\u001b[0m\u001b[0;34m'max labor participation'\u001b[0m\u001b[0;34m]\u001b[0m \u001b[0;34m=\u001b[0m \u001b[0mtotal_lab_max\u001b[0m\u001b[0;34m\u001b[0m\u001b[0m\n",
      "\u001b[0;31mNameError\u001b[0m: name 'total_lab_mean' is not defined"
     ]
    }
   ],
   "source": [
    "male_lab_mean = male_lab.mean()\n",
    "male_lab_min = male_lab.min()\n",
    "male_lab_max = male_lab.max()\n",
    "fem_lab_mean = fem_lab.mean()\n",
    "fem_lab_min = fem_lab.min()\n",
    "fem_lab_max = fem_lab.max()\n",
    "dfcorrelation['mean total labor participation'] = total_lab_mean\n",
    "dfcorrelation['min labor participation'] = total_lab_min\n",
    "dfcorrelation['max labor participation'] = total_lab_max\n",
    "dfcorrelation['mean female labor participation'] = fem_lab_mean\n",
    "dfcorrelation['min female labor participation'] = fem_lab_min\n",
    "dfcorrelation['max female labor participation'] = fem_lab_max\n",
    "dfcorrelation['predicted min female labor participation'] = dfcorrelation['mean female labor participation'] - ((dfcorrelation['mean total labor participation'] \n",
    "                                             - dfcorrelation['min labor participation']) * dfcorrelation['coeff'])\n",
    "dfcorrelation['predicted max female labor participation'] = dfcorrelation['mean female labor participation'] + ((dfcorrelation['max labor participation']\n",
    "                                            - dfcorrelation['mean total labor participation']) * dfcorrelation['coeff'])\n",
    "dfcorrelation = dfcorrelation.reindex(['min labor participation', 'mean total labor participation', \n",
    "                                       'max labor participation', 'min female labor participation', 'predicted min female labor participation', 'mean female labor participation', \n",
    "                                       'max female labor participation', 'predicted max female labor participation', 'coeff', 'pval'], axis=1)"
   ]
  },
  {
   "cell_type": "code",
   "execution_count": null,
   "metadata": {
    "nbpresent": {
     "id": "6d84c658-7bd0-4102-beb1-47b440dfc144"
    }
   },
   "outputs": [],
   "source": [
    "#To correlate all columns with each other, not just the corresponding columns of each dataframe:\n",
    "\n",
    "# coeffmat = np.zeros((df1.shape[1], df2.shape[1]))\n",
    "# pvalmat = np.zeros((df1.shape[1], df2.shape[1]))\n",
    "\n",
    "# for i in range(df1.shape[1]):    \n",
    "#     for j in range(df2.shape[1]):        \n",
    "#         corrtest = pearsonr(df1[df1.columns[i]], df2[df2.columns[j]])  \n",
    "\n",
    "#         coeffmat[i,j] = corrtest[0]\n",
    "#         pvalmat[i,j] = corrtest[1]\n",
    "\n",
    "# dfcoeff = pd.DataFrame(coeffmat, columns=df2.columns, index=df1.columns)\n",
    "# print(dfcoeff)\n",
    "\n",
    "# dfpvals = pd.DataFrame(pvalmat, columns=df2.columns, index=df1.columns)\n",
    "# print(dfpvals)"
   ]
  },
  {
   "cell_type": "code",
   "execution_count": null,
   "metadata": {
    "nbpresent": {
     "id": "32d258d8-2f62-40fe-bdf7-ee6494fc2408"
    }
   },
   "outputs": [],
   "source": [
    "dfcorrelation.to_csv('dfcorrelation.csv')\n",
    "dfcorrelation"
   ]
  },
  {
   "cell_type": "code",
   "execution_count": null,
   "metadata": {
    "nbpresent": {
     "id": "1e2c1c2b-fccc-482c-ae81-e41eac3fe925"
    }
   },
   "outputs": [],
   "source": []
  }
 ],
 "metadata": {
  "kernelspec": {
   "display_name": "Python [conda env:gwarl]",
   "language": "python",
   "name": "conda-env-gwarl-py"
  },
  "language_info": {
   "codemirror_mode": {
    "name": "ipython",
    "version": 3
   },
   "file_extension": ".py",
   "mimetype": "text/x-python",
   "name": "python",
   "nbconvert_exporter": "python",
   "pygments_lexer": "ipython3",
   "version": "3.6.5"
  },
  "nbpresent": {
   "slides": {
    "4e196856-9fcf-4fe8-bd39-86f44fc8a064": {
     "id": "4e196856-9fcf-4fe8-bd39-86f44fc8a064",
     "prev": "914dc584-1f3f-4339-8a32-8d4ca6e792d1",
     "regions": {
      "1c04233c-4d7d-415c-ac2d-60393d221f22": {
       "attrs": {
        "height": 0.8,
        "width": 0.8,
        "x": 0.1,
        "y": 0.1
       },
       "content": {
        "cell": "1e2c1c2b-fccc-482c-ae81-e41eac3fe925",
        "part": "whole"
       },
       "id": "1c04233c-4d7d-415c-ac2d-60393d221f22"
      }
     }
    },
    "67a36c13-e210-4681-924c-753edc81c6ab": {
     "id": "67a36c13-e210-4681-924c-753edc81c6ab",
     "prev": "d87089cf-342b-41ba-9497-77d2de6df2b6",
     "regions": {
      "6aab501d-a1a8-4017-a6fc-805fd87445bc": {
       "attrs": {
        "height": 0.8,
        "width": 0.8,
        "x": 0.1,
        "y": 0.1
       },
       "content": {
        "cell": "94c5663f-7446-469c-9987-690fa18d24bb",
        "part": "whole"
       },
       "id": "6aab501d-a1a8-4017-a6fc-805fd87445bc"
      }
     }
    },
    "76772516-70a4-4fe9-b281-1255d9df1595": {
     "id": "76772516-70a4-4fe9-b281-1255d9df1595",
     "prev": "878cd63e-d685-4056-8d8e-e6959d70610b",
     "regions": {
      "8d2a6277-91b8-4d29-a72b-9b08af835fd2": {
       "attrs": {
        "height": 0.8,
        "width": 0.8,
        "x": 0.1,
        "y": 0.1
       },
       "content": {
        "cell": "e5d2c07a-932b-48bb-b38b-d3fad61d95c7",
        "part": "whole"
       },
       "id": "8d2a6277-91b8-4d29-a72b-9b08af835fd2"
      }
     }
    },
    "878cd63e-d685-4056-8d8e-e6959d70610b": {
     "id": "878cd63e-d685-4056-8d8e-e6959d70610b",
     "prev": "cff01677-69f7-4248-ad0f-f544e46fafa2",
     "regions": {
      "8e0e5995-f305-4aec-81bd-1e48347e107f": {
       "attrs": {
        "height": 0.8,
        "width": 0.8,
        "x": 0.1,
        "y": 0.1
       },
       "content": {
        "cell": "6d84c658-7bd0-4102-beb1-47b440dfc144",
        "part": "whole"
       },
       "id": "8e0e5995-f305-4aec-81bd-1e48347e107f"
      }
     }
    },
    "914dc584-1f3f-4339-8a32-8d4ca6e792d1": {
     "id": "914dc584-1f3f-4339-8a32-8d4ca6e792d1",
     "prev": "76772516-70a4-4fe9-b281-1255d9df1595",
     "regions": {
      "1e98c23b-4c31-4b0f-a917-e6479856cacf": {
       "attrs": {
        "height": 0.8,
        "width": 0.8,
        "x": 0.1,
        "y": 0.1
       },
       "content": {
        "cell": "32d258d8-2f62-40fe-bdf7-ee6494fc2408",
        "part": "whole"
       },
       "id": "1e98c23b-4c31-4b0f-a917-e6479856cacf"
      }
     }
    },
    "cff01677-69f7-4248-ad0f-f544e46fafa2": {
     "id": "cff01677-69f7-4248-ad0f-f544e46fafa2",
     "prev": "67a36c13-e210-4681-924c-753edc81c6ab",
     "regions": {
      "652512d1-6759-46ab-b9d4-437f99fcda04": {
       "attrs": {
        "height": 0.8,
        "width": 0.8,
        "x": 0.1,
        "y": 0.1
       },
       "content": {
        "cell": "7b632d1e-1b6b-4878-ac3d-5d1c3d45d41e",
        "part": "whole"
       },
       "id": "652512d1-6759-46ab-b9d4-437f99fcda04"
      }
     }
    },
    "d87089cf-342b-41ba-9497-77d2de6df2b6": {
     "id": "d87089cf-342b-41ba-9497-77d2de6df2b6",
     "prev": "de1899ea-606b-4e70-a008-07f216e55cf0",
     "regions": {
      "0f8cebbc-7bda-4e25-b7af-803fc2e6bd9e": {
       "attrs": {
        "height": 0.8,
        "width": 0.8,
        "x": 0.1,
        "y": 0.1
       },
       "content": {
        "cell": "7f1611c0-f4d1-413d-8391-35722bb8c0e8",
        "part": "whole"
       },
       "id": "0f8cebbc-7bda-4e25-b7af-803fc2e6bd9e"
      }
     }
    },
    "de1899ea-606b-4e70-a008-07f216e55cf0": {
     "id": "de1899ea-606b-4e70-a008-07f216e55cf0",
     "prev": null,
     "regions": {
      "7f212d94-369e-482c-a606-4a3739f27186": {
       "attrs": {
        "height": 0.8,
        "width": 0.8,
        "x": 0.1,
        "y": 0.1
       },
       "content": {
        "cell": "49c52585-3e2b-466f-b97d-b3f48b1464cf",
        "part": "whole"
       },
       "id": "7f212d94-369e-482c-a606-4a3739f27186"
      }
     }
    }
   },
   "themes": {
    "default": "eb9d375f-d1d2-42c4-be81-dbc2a1638752",
    "theme": {
     "b6a78f9e-580e-4db9-bc96-7b0826aea20e": {
      "backgrounds": {
       "backgroundColor": {
        "background-color": "backgroundColor",
        "id": "backgroundColor"
       }
      },
      "id": "b6a78f9e-580e-4db9-bc96-7b0826aea20e",
      "palette": {
       "backgroundColor": {
        "id": "backgroundColor",
        "rgb": [
         256,
         256,
         256
        ]
       },
       "headingColor": {
        "id": "headingColor",
        "rgb": [
         0,
         0,
         0
        ]
       },
       "linkColor": {
        "id": "linkColor",
        "rgb": [
         0,
         0,
         139
        ]
       },
       "mainColor": {
        "id": "mainColor",
        "rgb": [
         0,
         0,
         0
        ]
       }
      },
      "rules": {
       "a": {
        "color": "linkColor"
       },
       "h1": {
        "color": "headingColor",
        "font-family": "News Cycle",
        "font-size": 7
       },
       "h2": {
        "color": "headingColor",
        "font-family": "News Cycle",
        "font-size": 5
       },
       "h3": {
        "color": "headingColor",
        "font-family": "News Cycle",
        "font-size": 3.75
       },
       "h4": {
        "color": "headingColor",
        "font-family": "News Cycle",
        "font-size": 3
       },
       "h5": {
        "color": "headingColor",
        "font-family": "News Cycle"
       },
       "h6": {
        "color": "headingColor",
        "font-family": "News Cycle"
       },
       "h7": {
        "color": "headingColor",
        "font-family": "News Cycle"
       },
       "li": {
        "color": "mainColor",
        "font-family": "Lato",
        "font-size": 5
       },
       "p": {
        "color": "mainColor",
        "font-family": "Lato",
        "font-size": 5
       }
      },
      "text-base": {
       "color": "mainColor",
       "font-family": "Lato",
       "font-size": 5
      }
     },
     "cc529787-14e4-45e8-b7dc-92c365a17b23": {
      "backgrounds": {
       "backgroundColor": {
        "background-color": "backgroundColor",
        "id": "backgroundColor"
       }
      },
      "id": "cc529787-14e4-45e8-b7dc-92c365a17b23",
      "palette": {
       "backgroundColor": {
        "id": "backgroundColor",
        "rgb": [
         34,
         34,
         34
        ]
       },
       "headingColor": {
        "id": "headingColor",
        "rgb": [
         256,
         256,
         256
        ]
       },
       "linkColor": {
        "id": "linkColor",
        "rgb": [
         66,
         175,
         250
        ]
       },
       "mainColor": {
        "id": "mainColor",
        "rgb": [
         256,
         256,
         256
        ]
       }
      },
      "rules": {
       "a": {
        "color": "linkColor"
       },
       "h1": {
        "color": "headingColor",
        "font-family": "Source Sans Pro",
        "font-size": 5.25
       },
       "h2": {
        "color": "headingColor",
        "font-family": "Source Sans Pro",
        "font-size": 4
       },
       "h3": {
        "color": "headingColor",
        "font-family": "Source Sans Pro",
        "font-size": 3.5
       },
       "h4": {
        "color": "headingColor",
        "font-family": "Source Sans Pro",
        "font-size": 3
       },
       "h5": {
        "color": "headingColor",
        "font-family": "Source Sans Pro"
       },
       "h6": {
        "color": "headingColor",
        "font-family": "Source Sans Pro"
       },
       "h7": {
        "color": "headingColor",
        "font-family": "Source Sans Pro"
       },
       "li": {
        "color": "mainColor",
        "font-family": "Source Sans Pro",
        "font-size": 6
       },
       "p": {
        "color": "mainColor",
        "font-family": "Source Sans Pro",
        "font-size": 6
       }
      },
      "text-base": {
       "color": "mainColor",
       "font-family": "Source Sans Pro",
       "font-size": 6
      }
     }
    }
   }
  }
 },
 "nbformat": 4,
 "nbformat_minor": 2
}
