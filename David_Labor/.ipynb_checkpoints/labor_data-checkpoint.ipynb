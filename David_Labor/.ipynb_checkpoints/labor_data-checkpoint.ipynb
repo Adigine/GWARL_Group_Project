{
 "cells": [
  {
   "cell_type": "code",
   "execution_count": 141,
   "metadata": {
    "nbpresent": {
     "id": "42d8b3a6-ded5-4abf-bbba-0ec5be6c3169"
    },
    "scrolled": true
   },
   "outputs": [
    {
     "data": {
      "text/plain": [
       "Index(['Country Name', 'Country Code', 'Indicator Name', 'Indicator Code',\n",
       "       '1960', '1961', '1962', '1963', '1964', '1965', '1966', '1967', '1968',\n",
       "       '1969', '1970', '1971', '1972', '1973', '1974', '1975', '1976', '1977',\n",
       "       '1978', '1979', '1980', '1981', '1982', '1983', '1984', '1985', '1986',\n",
       "       '1987', '1988', '1989', '1990', '1991', '1992', '1993', '1994', '1995',\n",
       "       '1996', '1997', '1998', '1999', '2000', '2001', '2002', '2003', '2004',\n",
       "       '2005', '2006', '2007', '2008', '2009', '2010', '2011', '2012', '2013',\n",
       "       '2014', '2015', '2016', '2017'],\n",
       "      dtype='object')"
      ]
     },
     "execution_count": 141,
     "metadata": {},
     "output_type": "execute_result"
    }
   ],
   "source": [
    "import pandas as pd\n",
    "import numpy as np\n",
    "import matplotlib as plt\n",
    "from scipy.stats import pearsonr\n",
    "import numpy as np\n",
    "\n",
    "csv_fem_lab = \"../Resources/labor_force_female.csv\"\n",
    "csv_male_lab = \"../Resources/labor_male.csv\"\n",
    "csv_total_lab = \"../Resources/labor_total.csv\"\n",
    "csv_lab_perc_fem = \"../Resources/labor_perc_fem.csv\"\n",
    "\n",
    "\n",
    "# Labor force participation rate(% of population ages 15-64); among women, men, and total\n",
    "fem_lab = pd.read_csv(csv_fem_lab)\n",
    "male_lab = pd.read_csv(csv_male_lab)\n",
    "total_lab = pd.read_csv(csv_total_lab)\n",
    "\n",
    "# % of labor force that are women (will reflect any skew in gender proportions in a given country)\n",
    "lab_perc_fem = pd.read_csv(csv_lab_perc_fem)\n",
    "fem_lab.columns"
   ]
  },
  {
   "cell_type": "code",
   "execution_count": 142,
   "metadata": {
    "nbpresent": {
     "id": "4d238d1e-67da-4038-ae52-cf92d7207f07"
    }
   },
   "outputs": [],
   "source": [
    "# Function to clean up data sets and use only country-level data, no regions or WB categories\n",
    "country_list = ['AFG', 'ALB', 'DZA', 'ASM', 'AND', 'AGO', 'AIA', 'ATG', 'ARG', 'ARM', 'ABW', 'AUS', 'AUT', 'AZE', 'BHS', 'BHR', 'BGD', 'BRB', 'BLR', 'BEL', 'BLX', 'BLZ', 'BEN', 'BMU', 'BTN', 'BOL', 'BIH', 'BWA', 'BAT', 'BRA', 'IOT', 'VGB', 'BRN', 'BGR', 'BFA', 'BDI', 'KHM', 'CMR', 'CAN', 'CPV', 'CYM', 'CAF', 'TCD', 'CHL', 'CHN', 'CXR', 'CCK', 'COL', 'COM', 'ZAR', 'COG', 'COK', 'CRI', 'CIV', 'HRV', 'CUB', 'CYP', 'CZE', 'CSK', 'DNK', 'DJI', 'DMA', 'DOM', 'TMP', 'ECU', 'EGY', 'SLV', 'GNQ', 'ERI', 'EST', 'ETH', 'ETF', 'EUN', 'FRO', 'FLK', 'FJI', 'FIN', 'PCZ', 'ZW1', 'TAN', 'VDR', 'SVR', 'ZPM', 'ATF', 'FRA', 'FRE', 'GUF', 'PYF', 'GAB', 'GMB', 'GAZ', 'GEO', 'DDR', 'DEU', 'GHA', 'GIB', 'GRC', 'GRL', 'GRD', 'GLP', 'GUM', 'GTM', 'GIN', 'GNB', 'GUY', 'HTI', 'VAT', 'HND', 'HKG', 'HUN', 'ISL', 'IND', 'IDN', 'IRN', 'IRQ', 'IRL', 'ISR', 'ITA', 'JAM', 'JPN', 'JTN', 'JOR', 'KAZ', 'KEN', 'KIR', 'PRK', 'KOR', 'KWT', 'KGZ', 'LAO', 'LVA', 'LBN', 'LSO', 'LBR', 'LBY', 'LIE', 'LTU', 'LUX', 'MAC', 'MKD', 'MDG', 'MWI', 'MYS', 'MDV', 'MLI', 'MLT', 'MHL', 'MTQ', 'MRT', 'MUS', 'MEX', 'FSM', 'MID', 'MDA', 'MCO', 'MNG', 'MSR', 'MAR', 'MOZ', 'MMR', 'NAM', 'NRU', 'NPL', 'NLD', 'ANT', 'NZE', 'NCL', 'NZL', 'NIC', 'NER', 'NGA', 'NIU', 'NFK', 'MNP', 'NOR', 'OMN', 'PCE', 'PAK', 'PLW', 'PAN', 'PNG', 'PRY', 'PMY', 'PER', 'PHL', 'PCN', 'POL', 'PRT', 'PRI', 'QAT', 'REU', 'ROM', 'RUS', 'RWA', 'RYU', 'SBH', 'SHN', 'KN1', 'SPM', 'WSM', 'SMR', 'STP', 'SWK', 'SAU', 'SEN', 'SYC', 'SLE', 'SIK', 'SGP', 'SVK', 'SVN', 'SLB', 'SOM', 'ZAF', 'SVU', 'ESP', 'SPE', 'LKA', 'KNA', 'LCA', 'VCT', 'SDN', 'SUR', 'SJM', 'SWZ', 'SWE', 'CHE', 'SYR', 'TWN', 'TJK', 'TZA', 'THA', 'TGO', 'TKL', 'TON', 'TTO', 'TUN', 'TUR', 'TKM', 'TCA', 'TUV', 'UGA', 'UKR', 'ARE', 'GBR', 'USA', 'UNS', 'URY', 'USP', 'UZB', 'VUT', 'VEN', 'VNM', 'VIR', 'WAK', 'WLF', 'ESH', 'WLD', 'YDR', 'YEM', 'SER', 'YUG', 'ZMB', 'ZWE']\n",
    "\n",
    "def clean_df(df):\n",
    "    df.index = df['Country Code']\n",
    "    df = df[df['Country Code'].isin(country_list)]\n",
    "    df = df.drop(columns=['Indicator Code', 'Country Code',\n",
    "       '1960', '1961', '1962', '1963', '1964', '1965', '1966', '1967', '1968',\n",
    "       '1969', '1970', '1971', '1972', '1973', '1974', '1975', '1976', '1977',\n",
    "       '1978', '1979', '1980', '1981', '1982', '1983', '1984', '1985', '1986',\n",
    "       '1987', '1988', '1989'])\n",
    "#     df = df.dropna(how='any', thresh=3)\n",
    "    return df\n",
    "\n",
    "fem_lab = clean_df(fem_lab)\n",
    "male_lab = clean_df(male_lab)\n",
    "total_lab = clean_df(total_lab)\n",
    "lab_perc_fem = clean_df(lab_perc_fem)"
   ]
  },
  {
   "cell_type": "code",
   "execution_count": 143,
   "metadata": {
    "nbpresent": {
     "id": "49c52585-3e2b-466f-b97d-b3f48b1464cf"
    }
   },
   "outputs": [
    {
     "data": {
      "text/plain": [
       "Country Name                                            Afghanistan\n",
       "Indicator Name    Labor force participation rate, female (% of f...\n",
       "1990                                                          8.116\n",
       "1991                                                          8.182\n",
       "1992                                                          8.252\n",
       "1993                                                          8.325\n",
       "1994                                                          8.398\n",
       "1995                                                          8.472\n",
       "1996                                                          8.558\n",
       "1997                                                          8.644\n",
       "1998                                                          9.229\n",
       "1999                                                           9.85\n",
       "2000                                                         10.507\n",
       "2001                                                         11.201\n",
       "2002                                                         11.931\n",
       "2003                                                         11.902\n",
       "2004                                                         12.049\n",
       "2005                                                         12.201\n",
       "2006                                                         12.543\n",
       "2007                                                         12.462\n",
       "2008                                                           11.6\n",
       "2009                                                         10.797\n",
       "2010                                                         10.049\n",
       "2011                                                          8.848\n",
       "2012                                                            7.8\n",
       "2013                                                          6.884\n",
       "2014                                                          6.084\n",
       "2015                                                          6.133\n",
       "2016                                                          6.171\n",
       "2017                                                          5.998\n",
       "dtype: object"
      ]
     },
     "execution_count": 143,
     "metadata": {},
     "output_type": "execute_result"
    }
   ],
   "source": [
    "fem_lab.min()"
   ]
  },
  {
   "cell_type": "code",
   "execution_count": 144,
   "metadata": {
    "nbpresent": {
     "id": "7f1611c0-f4d1-413d-8391-35722bb8c0e8"
    }
   },
   "outputs": [
    {
     "data": {
      "text/html": [
       "<div>\n",
       "<style scoped>\n",
       "    .dataframe tbody tr th:only-of-type {\n",
       "        vertical-align: middle;\n",
       "    }\n",
       "\n",
       "    .dataframe tbody tr th {\n",
       "        vertical-align: top;\n",
       "    }\n",
       "\n",
       "    .dataframe thead th {\n",
       "        text-align: right;\n",
       "    }\n",
       "</style>\n",
       "<table border=\"1\" class=\"dataframe\">\n",
       "  <thead>\n",
       "    <tr style=\"text-align: right;\">\n",
       "      <th></th>\n",
       "      <th>1990</th>\n",
       "      <th>1991</th>\n",
       "      <th>1992</th>\n",
       "      <th>1993</th>\n",
       "      <th>1994</th>\n",
       "      <th>1995</th>\n",
       "      <th>1996</th>\n",
       "      <th>1997</th>\n",
       "      <th>1998</th>\n",
       "      <th>1999</th>\n",
       "      <th>...</th>\n",
       "      <th>2008</th>\n",
       "      <th>2009</th>\n",
       "      <th>2010</th>\n",
       "      <th>2011</th>\n",
       "      <th>2012</th>\n",
       "      <th>2013</th>\n",
       "      <th>2014</th>\n",
       "      <th>2015</th>\n",
       "      <th>2016</th>\n",
       "      <th>2017</th>\n",
       "    </tr>\n",
       "    <tr>\n",
       "      <th>Country Code</th>\n",
       "      <th></th>\n",
       "      <th></th>\n",
       "      <th></th>\n",
       "      <th></th>\n",
       "      <th></th>\n",
       "      <th></th>\n",
       "      <th></th>\n",
       "      <th></th>\n",
       "      <th></th>\n",
       "      <th></th>\n",
       "      <th></th>\n",
       "      <th></th>\n",
       "      <th></th>\n",
       "      <th></th>\n",
       "      <th></th>\n",
       "      <th></th>\n",
       "      <th></th>\n",
       "      <th></th>\n",
       "      <th></th>\n",
       "      <th></th>\n",
       "      <th></th>\n",
       "    </tr>\n",
       "  </thead>\n",
       "  <tbody>\n",
       "    <tr>\n",
       "      <th>ABW</th>\n",
       "      <td>NaN</td>\n",
       "      <td>NaN</td>\n",
       "      <td>NaN</td>\n",
       "      <td>NaN</td>\n",
       "      <td>NaN</td>\n",
       "      <td>NaN</td>\n",
       "      <td>NaN</td>\n",
       "      <td>NaN</td>\n",
       "      <td>NaN</td>\n",
       "      <td>NaN</td>\n",
       "      <td>...</td>\n",
       "      <td>NaN</td>\n",
       "      <td>NaN</td>\n",
       "      <td>NaN</td>\n",
       "      <td>NaN</td>\n",
       "      <td>NaN</td>\n",
       "      <td>NaN</td>\n",
       "      <td>NaN</td>\n",
       "      <td>NaN</td>\n",
       "      <td>NaN</td>\n",
       "      <td>NaN</td>\n",
       "    </tr>\n",
       "    <tr>\n",
       "      <th>AFG</th>\n",
       "      <td>0.170580</td>\n",
       "      <td>0.171387</td>\n",
       "      <td>0.172137</td>\n",
       "      <td>0.172345</td>\n",
       "      <td>0.172433</td>\n",
       "      <td>0.173226</td>\n",
       "      <td>0.171362</td>\n",
       "      <td>0.169687</td>\n",
       "      <td>0.168608</td>\n",
       "      <td>0.168045</td>\n",
       "      <td>...</td>\n",
       "      <td>0.171435</td>\n",
       "      <td>0.169559</td>\n",
       "      <td>0.169958</td>\n",
       "      <td>0.176328</td>\n",
       "      <td>0.184791</td>\n",
       "      <td>0.194735</td>\n",
       "      <td>0.205303</td>\n",
       "      <td>0.215845</td>\n",
       "      <td>0.223935</td>\n",
       "      <td>0.224571</td>\n",
       "    </tr>\n",
       "    <tr>\n",
       "      <th>AGO</th>\n",
       "      <td>0.921183</td>\n",
       "      <td>0.919662</td>\n",
       "      <td>0.918335</td>\n",
       "      <td>0.914296</td>\n",
       "      <td>0.915948</td>\n",
       "      <td>0.918874</td>\n",
       "      <td>0.919928</td>\n",
       "      <td>0.921029</td>\n",
       "      <td>0.922410</td>\n",
       "      <td>0.923605</td>\n",
       "      <td>...</td>\n",
       "      <td>0.935467</td>\n",
       "      <td>0.935406</td>\n",
       "      <td>0.935750</td>\n",
       "      <td>0.935299</td>\n",
       "      <td>0.935699</td>\n",
       "      <td>0.936869</td>\n",
       "      <td>0.938037</td>\n",
       "      <td>0.939203</td>\n",
       "      <td>0.939573</td>\n",
       "      <td>0.940468</td>\n",
       "    </tr>\n",
       "    <tr>\n",
       "      <th>ALB</th>\n",
       "      <td>0.720141</td>\n",
       "      <td>0.745257</td>\n",
       "      <td>0.749689</td>\n",
       "      <td>0.740724</td>\n",
       "      <td>0.734181</td>\n",
       "      <td>0.726140</td>\n",
       "      <td>0.718269</td>\n",
       "      <td>0.722567</td>\n",
       "      <td>0.715310</td>\n",
       "      <td>0.706948</td>\n",
       "      <td>...</td>\n",
       "      <td>0.722840</td>\n",
       "      <td>0.699076</td>\n",
       "      <td>0.725470</td>\n",
       "      <td>0.731304</td>\n",
       "      <td>0.738176</td>\n",
       "      <td>0.712735</td>\n",
       "      <td>0.701121</td>\n",
       "      <td>0.731665</td>\n",
       "      <td>0.729236</td>\n",
       "      <td>0.727965</td>\n",
       "    </tr>\n",
       "    <tr>\n",
       "      <th>AND</th>\n",
       "      <td>NaN</td>\n",
       "      <td>NaN</td>\n",
       "      <td>NaN</td>\n",
       "      <td>NaN</td>\n",
       "      <td>NaN</td>\n",
       "      <td>NaN</td>\n",
       "      <td>NaN</td>\n",
       "      <td>NaN</td>\n",
       "      <td>NaN</td>\n",
       "      <td>NaN</td>\n",
       "      <td>...</td>\n",
       "      <td>NaN</td>\n",
       "      <td>NaN</td>\n",
       "      <td>NaN</td>\n",
       "      <td>NaN</td>\n",
       "      <td>NaN</td>\n",
       "      <td>NaN</td>\n",
       "      <td>NaN</td>\n",
       "      <td>NaN</td>\n",
       "      <td>NaN</td>\n",
       "      <td>NaN</td>\n",
       "    </tr>\n",
       "  </tbody>\n",
       "</table>\n",
       "<p>5 rows × 28 columns</p>\n",
       "</div>"
      ],
      "text/plain": [
       "                  1990      1991      1992      1993      1994      1995  \\\n",
       "Country Code                                                               \n",
       "ABW                NaN       NaN       NaN       NaN       NaN       NaN   \n",
       "AFG           0.170580  0.171387  0.172137  0.172345  0.172433  0.173226   \n",
       "AGO           0.921183  0.919662  0.918335  0.914296  0.915948  0.918874   \n",
       "ALB           0.720141  0.745257  0.749689  0.740724  0.734181  0.726140   \n",
       "AND                NaN       NaN       NaN       NaN       NaN       NaN   \n",
       "\n",
       "                  1996      1997      1998      1999    ...         2008  \\\n",
       "Country Code                                            ...                \n",
       "ABW                NaN       NaN       NaN       NaN    ...          NaN   \n",
       "AFG           0.171362  0.169687  0.168608  0.168045    ...     0.171435   \n",
       "AGO           0.919928  0.921029  0.922410  0.923605    ...     0.935467   \n",
       "ALB           0.718269  0.722567  0.715310  0.706948    ...     0.722840   \n",
       "AND                NaN       NaN       NaN       NaN    ...          NaN   \n",
       "\n",
       "                  2009      2010      2011      2012      2013      2014  \\\n",
       "Country Code                                                               \n",
       "ABW                NaN       NaN       NaN       NaN       NaN       NaN   \n",
       "AFG           0.169559  0.169958  0.176328  0.184791  0.194735  0.205303   \n",
       "AGO           0.935406  0.935750  0.935299  0.935699  0.936869  0.938037   \n",
       "ALB           0.699076  0.725470  0.731304  0.738176  0.712735  0.701121   \n",
       "AND                NaN       NaN       NaN       NaN       NaN       NaN   \n",
       "\n",
       "                  2015      2016      2017  \n",
       "Country Code                                \n",
       "ABW                NaN       NaN       NaN  \n",
       "AFG           0.215845  0.223935  0.224571  \n",
       "AGO           0.939203  0.939573  0.940468  \n",
       "ALB           0.731665  0.729236  0.727965  \n",
       "AND                NaN       NaN       NaN  \n",
       "\n",
       "[5 rows x 28 columns]"
      ]
     },
     "execution_count": 144,
     "metadata": {},
     "output_type": "execute_result"
    }
   ],
   "source": [
    "lab_ratio = fem_lab[['1990', '1991', '1992', '1993', '1994', '1995',\n",
    "       '1996', '1997', '1998', '1999', '2000', '2001', '2002', '2003', '2004',\n",
    "       '2005', '2006', '2007', '2008', '2009', '2010', '2011', '2012', '2013',\n",
    "       '2014', '2015', '2016', '2017']] / male_lab[['1990', '1991', '1992', '1993', '1994', '1995',\n",
    "       '1996', '1997', '1998', '1999', '2000', '2001', '2002', '2003', '2004',\n",
    "       '2005', '2006', '2007', '2008', '2009', '2010', '2011', '2012', '2013',\n",
    "       '2014', '2015', '2016', '2017']]\n",
    "# lab_ratio_dif = (fem_lab['2017'] - fem_lab['1990']) / fem_lab['1990']\n",
    "lab_ratio.head()"
   ]
  },
  {
   "cell_type": "code",
   "execution_count": 149,
   "metadata": {
    "nbpresent": {
     "id": "94c5663f-7446-469c-9987-690fa18d24bb"
    }
   },
   "outputs": [
    {
     "name": "stderr",
     "output_type": "stream",
     "text": [
      "ERROR:root:Internal Python error in the inspect module.\n",
      "Below is the traceback from this internal error.\n",
      "\n"
     ]
    },
    {
     "name": "stdout",
     "output_type": "stream",
     "text": [
      "Traceback (most recent call last):\n",
      "  File \"/anaconda3/envs/gwarl/lib/python3.6/site-packages/IPython/core/interactiveshell.py\", line 2963, in run_code\n",
      "    exec(code_obj, self.user_global_ns, self.user_ns)\n",
      "  File \"<ipython-input-149-243080ea3544>\", line 1, in <module>\n",
      "    lab_ratio.to_csv('lab_ratio.csv')\n",
      "  File \"/anaconda3/envs/gwarl/lib/python3.6/site-packages/pandas/core/frame.py\", line 1745, in to_csv\n",
      "    formatter.save()\n",
      "  File \"/anaconda3/envs/gwarl/lib/python3.6/site-packages/pandas/io/formats/csvs.py\", line 136, in save\n",
      "    compression=None)\n",
      "  File \"/anaconda3/envs/gwarl/lib/python3.6/site-packages/pandas/io/common.py\", line 400, in _get_handle\n",
      "    f = open(path_or_buf, mode, encoding=encoding)\n",
      "FileNotFoundError: [Errno 2] No such file or directory: 'lab_ratio.csv'\n",
      "\n",
      "During handling of the above exception, another exception occurred:\n",
      "\n",
      "Traceback (most recent call last):\n",
      "  File \"/anaconda3/envs/gwarl/lib/python3.6/site-packages/IPython/core/interactiveshell.py\", line 1863, in showtraceback\n",
      "    stb = value._render_traceback_()\n",
      "AttributeError: 'FileNotFoundError' object has no attribute '_render_traceback_'\n",
      "\n",
      "During handling of the above exception, another exception occurred:\n",
      "\n",
      "Traceback (most recent call last):\n",
      "  File \"/anaconda3/envs/gwarl/lib/python3.6/site-packages/IPython/core/ultratb.py\", line 1095, in get_records\n",
      "    return _fixed_getinnerframes(etb, number_of_lines_of_context, tb_offset)\n",
      "  File \"/anaconda3/envs/gwarl/lib/python3.6/site-packages/IPython/core/ultratb.py\", line 311, in wrapped\n",
      "    return f(*args, **kwargs)\n",
      "  File \"/anaconda3/envs/gwarl/lib/python3.6/site-packages/IPython/core/ultratb.py\", line 345, in _fixed_getinnerframes\n",
      "    records = fix_frame_records_filenames(inspect.getinnerframes(etb, context))\n",
      "  File \"/anaconda3/envs/gwarl/lib/python3.6/inspect.py\", line 1483, in getinnerframes\n",
      "    frameinfo = (tb.tb_frame,) + getframeinfo(tb, context)\n",
      "  File \"/anaconda3/envs/gwarl/lib/python3.6/inspect.py\", line 1441, in getframeinfo\n",
      "    filename = getsourcefile(frame) or getfile(frame)\n",
      "  File \"/anaconda3/envs/gwarl/lib/python3.6/inspect.py\", line 696, in getsourcefile\n",
      "    if getattr(getmodule(object, filename), '__loader__', None) is not None:\n",
      "  File \"/anaconda3/envs/gwarl/lib/python3.6/inspect.py\", line 725, in getmodule\n",
      "    file = getabsfile(object, _filename)\n",
      "  File \"/anaconda3/envs/gwarl/lib/python3.6/inspect.py\", line 709, in getabsfile\n",
      "    return os.path.normcase(os.path.abspath(_filename))\n",
      "  File \"/anaconda3/envs/gwarl/lib/python3.6/posixpath.py\", line 376, in abspath\n",
      "    cwd = os.getcwd()\n",
      "FileNotFoundError: [Errno 2] No such file or directory\n"
     ]
    },
    {
     "ename": "FileNotFoundError",
     "evalue": "[Errno 2] No such file or directory: 'lab_ratio.csv'",
     "output_type": "error",
     "traceback": [
      "\u001b[0;31m---------------------------------------------------------------------------\u001b[0m"
     ]
    }
   ],
   "source": [
    "lab_ratio.to_csv('lab_ratio.csv')\n",
    "# lab_ratio_dif.to_csv('lab_ratio_dif.csv')"
   ]
  },
  {
   "cell_type": "code",
   "execution_count": 138,
   "metadata": {
    "nbpresent": {
     "id": "7b632d1e-1b6b-4878-ac3d-5d1c3d45d41e"
    }
   },
   "outputs": [],
   "source": [
    "# generating correlation and test of significance between two dataframes\n",
    "\n",
    "# dropping all columns aside from years\n",
    "df1 = male_lab[['1990', '1991', '1992', '1993', '1994', '1995', '1996', '1997', '1998',\n",
    "       '1999', '2000', '2001', '2002', '2003', '2004', '2005', '2006', '2007',\n",
    "       '2008', '2009', '2010', '2011', '2012', '2013', '2014', '2015', '2016',\n",
    "       '2017']]\n",
    "df2 = fem_lab[['1990', '1991', '1992', '1993', '1994', '1995', '1996', '1997', '1998',\n",
    "       '1999', '2000', '2001', '2002', '2003', '2004', '2005', '2006', '2007',\n",
    "       '2008', '2009', '2010', '2011', '2012', '2013', '2014', '2015', '2016',\n",
    "       '2017']]\n",
    "\n",
    "coeffmat = np.zeros((df1.shape[1], 2))\n",
    "\n",
    "for i in range(df1.shape[1]):\n",
    "    corrtest = pearsonr(df1[df1.columns[i]], df2[df2.columns[i]])  \n",
    "    coeffmat[i,0] = corrtest[0]\n",
    "    coeffmat[i,1] = corrtest[1]\n",
    "\n",
    "dfcorrelation = pd.DataFrame(coeffmat, columns={'coeff', 'pval'}, index=df1.columns)\n",
    "# dfpvals = pd.DataFrame(pvalmat, columns=df2.columns, index=df1.columns)"
   ]
  },
  {
   "cell_type": "code",
   "execution_count": 100,
   "metadata": {
    "nbpresent": {
     "id": "6d84c658-7bd0-4102-beb1-47b440dfc144"
    }
   },
   "outputs": [],
   "source": [
    "#To correlate all columns with each other, not just the corresponding columns of each dataframe:\n",
    "\n",
    "# coeffmat = np.zeros((df1.shape[1], df2.shape[1]))\n",
    "# pvalmat = np.zeros((df1.shape[1], df2.shape[1]))\n",
    "\n",
    "# for i in range(df1.shape[1]):    \n",
    "#     for j in range(df2.shape[1]):        \n",
    "#         corrtest = pearsonr(df1[df1.columns[i]], df2[df2.columns[j]])  \n",
    "\n",
    "#         coeffmat[i,j] = corrtest[0]\n",
    "#         pvalmat[i,j] = corrtest[1]\n",
    "\n",
    "# dfcoeff = pd.DataFrame(coeffmat, columns=df2.columns, index=df1.columns)\n",
    "# print(dfcoeff)\n",
    "\n",
    "# dfpvals = pd.DataFrame(pvalmat, columns=df2.columns, index=df1.columns)\n",
    "# print(dfpvals)"
   ]
  },
  {
   "cell_type": "code",
   "execution_count": 139,
   "metadata": {
    "nbpresent": {
     "id": "e5d2c07a-932b-48bb-b38b-d3fad61d95c7"
    }
   },
   "outputs": [],
   "source": [
    "male_lab_mean = male_lab.mean()\n",
    "male_lab_min = male_lab.min()\n",
    "male_lab_max = male_lab.max()\n",
    "fem_lab_mean = fem_lab.mean()\n",
    "fem_lab_min = fem_lab.min()\n",
    "fem_lab_max = fem_lab.max()\n",
    "dfcorrelation['mean total labor participation'] = total_lab_mean\n",
    "dfcorrelation['min labor participation'] = total_lab_min\n",
    "dfcorrelation['max labor participation'] = total_lab_max\n",
    "dfcorrelation['mean female labor participation'] = fem_lab_mean\n",
    "dfcorrelation['min female labor participation'] = fem_lab_min\n",
    "dfcorrelation['max female labor participation'] = fem_lab_max\n",
    "dfcorrelation['predicted min female labor participation'] = dfcorrelation['mean female labor participation'] - ((dfcorrelation['mean total labor participation'] \n",
    "                                             - dfcorrelation['min labor participation']) * dfcorrelation['coeff'])\n",
    "dfcorrelation['predicted max female labor participation'] = dfcorrelation['mean female labor participation'] + ((dfcorrelation['max labor participation']\n",
    "                                            - dfcorrelation['mean total labor participation']) * dfcorrelation['coeff'])\n",
    "dfcorrelation = dfcorrelation.reindex(['min labor participation', 'mean total labor participation', \n",
    "                                       'max labor participation', 'min female labor participation', 'predicted min female labor participation', 'mean female labor participation', \n",
    "                                       'max female labor participation', 'predicted max female labor participation', 'coeff', 'pval'], axis=1)"
   ]
  },
  {
   "cell_type": "code",
   "execution_count": 140,
   "metadata": {
    "nbpresent": {
     "id": "32d258d8-2f62-40fe-bdf7-ee6494fc2408"
    }
   },
   "outputs": [
    {
     "data": {
      "text/html": [
       "<div>\n",
       "<style scoped>\n",
       "    .dataframe tbody tr th:only-of-type {\n",
       "        vertical-align: middle;\n",
       "    }\n",
       "\n",
       "    .dataframe tbody tr th {\n",
       "        vertical-align: top;\n",
       "    }\n",
       "\n",
       "    .dataframe thead th {\n",
       "        text-align: right;\n",
       "    }\n",
       "</style>\n",
       "<table border=\"1\" class=\"dataframe\">\n",
       "  <thead>\n",
       "    <tr style=\"text-align: right;\">\n",
       "      <th></th>\n",
       "      <th>min labor participation</th>\n",
       "      <th>mean total labor participation</th>\n",
       "      <th>max labor participation</th>\n",
       "      <th>min female labor participation</th>\n",
       "      <th>predicted min female labor participation</th>\n",
       "      <th>mean female labor participation</th>\n",
       "      <th>max female labor participation</th>\n",
       "      <th>predicted max female labor participation</th>\n",
       "      <th>coeff</th>\n",
       "      <th>pval</th>\n",
       "    </tr>\n",
       "  </thead>\n",
       "  <tbody>\n",
       "    <tr>\n",
       "      <th>1990</th>\n",
       "      <td>35.406</td>\n",
       "      <td>66.471932</td>\n",
       "      <td>91.542</td>\n",
       "      <td>8.116</td>\n",
       "      <td>40.0798</td>\n",
       "      <td>48.221812</td>\n",
       "      <td>90.784</td>\n",
       "      <td>54.7924</td>\n",
       "      <td>0.262088</td>\n",
       "      <td>0.000379</td>\n",
       "    </tr>\n",
       "    <tr>\n",
       "      <th>1991</th>\n",
       "      <td>35.914</td>\n",
       "      <td>66.557536</td>\n",
       "      <td>91.109</td>\n",
       "      <td>8.182</td>\n",
       "      <td>40.3265</td>\n",
       "      <td>48.411794</td>\n",
       "      <td>90.345</td>\n",
       "      <td>54.8897</td>\n",
       "      <td>0.263851</td>\n",
       "      <td>0.000345</td>\n",
       "    </tr>\n",
       "    <tr>\n",
       "      <th>1992</th>\n",
       "      <td>36.266</td>\n",
       "      <td>66.612174</td>\n",
       "      <td>90.59</td>\n",
       "      <td>8.252</td>\n",
       "      <td>40.3449</td>\n",
       "      <td>48.551201</td>\n",
       "      <td>89.845</td>\n",
       "      <td>55.0354</td>\n",
       "      <td>0.270423</td>\n",
       "      <td>0.000241</td>\n",
       "    </tr>\n",
       "    <tr>\n",
       "      <th>1993</th>\n",
       "      <td>36.254</td>\n",
       "      <td>66.631768</td>\n",
       "      <td>89.987</td>\n",
       "      <td>8.325</td>\n",
       "      <td>40.4544</td>\n",
       "      <td>48.618906</td>\n",
       "      <td>89.283</td>\n",
       "      <td>54.896</td>\n",
       "      <td>0.268767</td>\n",
       "      <td>0.000264</td>\n",
       "    </tr>\n",
       "    <tr>\n",
       "      <th>1994</th>\n",
       "      <td>36.607</td>\n",
       "      <td>66.700350</td>\n",
       "      <td>89.335</td>\n",
       "      <td>8.398</td>\n",
       "      <td>40.8038</td>\n",
       "      <td>48.821452</td>\n",
       "      <td>88.665</td>\n",
       "      <td>54.8519</td>\n",
       "      <td>0.266427</td>\n",
       "      <td>0.000300</td>\n",
       "    </tr>\n",
       "    <tr>\n",
       "      <th>1995</th>\n",
       "      <td>36.249</td>\n",
       "      <td>66.712914</td>\n",
       "      <td>88.615</td>\n",
       "      <td>8.472</td>\n",
       "      <td>40.5628</td>\n",
       "      <td>48.925758</td>\n",
       "      <td>87.993</td>\n",
       "      <td>54.9383</td>\n",
       "      <td>0.274520</td>\n",
       "      <td>0.000192</td>\n",
       "    </tr>\n",
       "    <tr>\n",
       "      <th>1996</th>\n",
       "      <td>36.07</td>\n",
       "      <td>66.733239</td>\n",
       "      <td>88.55</td>\n",
       "      <td>8.558</td>\n",
       "      <td>40.551</td>\n",
       "      <td>49.083246</td>\n",
       "      <td>87.262</td>\n",
       "      <td>55.1539</td>\n",
       "      <td>0.278255</td>\n",
       "      <td>0.000155</td>\n",
       "    </tr>\n",
       "    <tr>\n",
       "      <th>1997</th>\n",
       "      <td>36.293</td>\n",
       "      <td>66.739258</td>\n",
       "      <td>88.489</td>\n",
       "      <td>8.644</td>\n",
       "      <td>40.6429</td>\n",
       "      <td>49.255479</td>\n",
       "      <td>86.925</td>\n",
       "      <td>55.408</td>\n",
       "      <td>0.282879</td>\n",
       "      <td>0.000119</td>\n",
       "    </tr>\n",
       "    <tr>\n",
       "      <th>1998</th>\n",
       "      <td>36.352</td>\n",
       "      <td>66.808593</td>\n",
       "      <td>88.693</td>\n",
       "      <td>9.229</td>\n",
       "      <td>40.5827</td>\n",
       "      <td>49.447344</td>\n",
       "      <td>87.223</td>\n",
       "      <td>55.817</td>\n",
       "      <td>0.291058</td>\n",
       "      <td>0.000074</td>\n",
       "    </tr>\n",
       "    <tr>\n",
       "      <th>1999</th>\n",
       "      <td>36.347</td>\n",
       "      <td>66.849743</td>\n",
       "      <td>88.912</td>\n",
       "      <td>9.85</td>\n",
       "      <td>40.7586</td>\n",
       "      <td>49.665088</td>\n",
       "      <td>87.448</td>\n",
       "      <td>56.107</td>\n",
       "      <td>0.291989</td>\n",
       "      <td>0.000070</td>\n",
       "    </tr>\n",
       "    <tr>\n",
       "      <th>2000</th>\n",
       "      <td>35.976</td>\n",
       "      <td>66.813002</td>\n",
       "      <td>88.943</td>\n",
       "      <td>10.507</td>\n",
       "      <td>40.6514</td>\n",
       "      <td>49.760365</td>\n",
       "      <td>87.611</td>\n",
       "      <td>56.2973</td>\n",
       "      <td>0.295390</td>\n",
       "      <td>0.000057</td>\n",
       "    </tr>\n",
       "    <tr>\n",
       "      <th>2001</th>\n",
       "      <td>35.648</td>\n",
       "      <td>66.905645</td>\n",
       "      <td>88.736</td>\n",
       "      <td>11.201</td>\n",
       "      <td>40.2076</td>\n",
       "      <td>49.990312</td>\n",
       "      <td>87.704</td>\n",
       "      <td>56.8226</td>\n",
       "      <td>0.312971</td>\n",
       "      <td>0.000019</td>\n",
       "    </tr>\n",
       "    <tr>\n",
       "      <th>2002</th>\n",
       "      <td>35.483</td>\n",
       "      <td>66.940394</td>\n",
       "      <td>88.381</td>\n",
       "      <td>11.931</td>\n",
       "      <td>40.0719</td>\n",
       "      <td>50.161500</td>\n",
       "      <td>87.747</td>\n",
       "      <td>57.0383</td>\n",
       "      <td>0.320738</td>\n",
       "      <td>0.000011</td>\n",
       "    </tr>\n",
       "    <tr>\n",
       "      <th>2003</th>\n",
       "      <td>35.276</td>\n",
       "      <td>67.018733</td>\n",
       "      <td>87.969</td>\n",
       "      <td>11.902</td>\n",
       "      <td>39.9596</td>\n",
       "      <td>50.330439</td>\n",
       "      <td>87.744</td>\n",
       "      <td>57.1752</td>\n",
       "      <td>0.326717</td>\n",
       "      <td>0.000008</td>\n",
       "    </tr>\n",
       "    <tr>\n",
       "      <th>2004</th>\n",
       "      <td>35.02</td>\n",
       "      <td>67.108320</td>\n",
       "      <td>87.941</td>\n",
       "      <td>12.049</td>\n",
       "      <td>39.8229</td>\n",
       "      <td>50.490045</td>\n",
       "      <td>87.423</td>\n",
       "      <td>57.4154</td>\n",
       "      <td>0.332430</td>\n",
       "      <td>0.000005</td>\n",
       "    </tr>\n",
       "    <tr>\n",
       "      <th>2005</th>\n",
       "      <td>34.749</td>\n",
       "      <td>67.310565</td>\n",
       "      <td>87.894</td>\n",
       "      <td>12.201</td>\n",
       "      <td>39.9719</td>\n",
       "      <td>50.792135</td>\n",
       "      <td>87.054</td>\n",
       "      <td>57.632</td>\n",
       "      <td>0.332302</td>\n",
       "      <td>0.000005</td>\n",
       "    </tr>\n",
       "    <tr>\n",
       "      <th>2006</th>\n",
       "      <td>34.625</td>\n",
       "      <td>67.509398</td>\n",
       "      <td>88.513</td>\n",
       "      <td>12.543</td>\n",
       "      <td>39.7356</td>\n",
       "      <td>51.087241</td>\n",
       "      <td>86.632</td>\n",
       "      <td>58.3377</td>\n",
       "      <td>0.345200</td>\n",
       "      <td>0.000002</td>\n",
       "    </tr>\n",
       "    <tr>\n",
       "      <th>2007</th>\n",
       "      <td>34.211</td>\n",
       "      <td>67.652493</td>\n",
       "      <td>89.071</td>\n",
       "      <td>12.462</td>\n",
       "      <td>39.5761</td>\n",
       "      <td>51.290957</td>\n",
       "      <td>86.157</td>\n",
       "      <td>58.794</td>\n",
       "      <td>0.350309</td>\n",
       "      <td>0.000001</td>\n",
       "    </tr>\n",
       "    <tr>\n",
       "      <th>2008</th>\n",
       "      <td>34.122</td>\n",
       "      <td>67.761381</td>\n",
       "      <td>89.565</td>\n",
       "      <td>11.6</td>\n",
       "      <td>39.5761</td>\n",
       "      <td>51.450182</td>\n",
       "      <td>86.19</td>\n",
       "      <td>59.1464</td>\n",
       "      <td>0.352981</td>\n",
       "      <td>0.000001</td>\n",
       "    </tr>\n",
       "    <tr>\n",
       "      <th>2009</th>\n",
       "      <td>34.423</td>\n",
       "      <td>67.779127</td>\n",
       "      <td>89.991</td>\n",
       "      <td>10.797</td>\n",
       "      <td>39.9385</td>\n",
       "      <td>51.535530</td>\n",
       "      <td>86.699</td>\n",
       "      <td>59.258</td>\n",
       "      <td>0.347672</td>\n",
       "      <td>0.000002</td>\n",
       "    </tr>\n",
       "    <tr>\n",
       "      <th>2010</th>\n",
       "      <td>34.388</td>\n",
       "      <td>67.764624</td>\n",
       "      <td>90.34</td>\n",
       "      <td>10.049</td>\n",
       "      <td>39.9624</td>\n",
       "      <td>51.543662</td>\n",
       "      <td>87.118</td>\n",
       "      <td>59.377</td>\n",
       "      <td>0.346986</td>\n",
       "      <td>0.000002</td>\n",
       "    </tr>\n",
       "    <tr>\n",
       "      <th>2011</th>\n",
       "      <td>34</td>\n",
       "      <td>67.858002</td>\n",
       "      <td>89.984</td>\n",
       "      <td>8.848</td>\n",
       "      <td>39.932</td>\n",
       "      <td>51.652620</td>\n",
       "      <td>86.861</td>\n",
       "      <td>59.312</td>\n",
       "      <td>0.346170</td>\n",
       "      <td>0.000002</td>\n",
       "    </tr>\n",
       "    <tr>\n",
       "      <th>2012</th>\n",
       "      <td>33.955</td>\n",
       "      <td>68.007810</td>\n",
       "      <td>89.555</td>\n",
       "      <td>7.8</td>\n",
       "      <td>40.1128</td>\n",
       "      <td>51.863920</td>\n",
       "      <td>86.553</td>\n",
       "      <td>59.2995</td>\n",
       "      <td>0.345085</td>\n",
       "      <td>0.000002</td>\n",
       "    </tr>\n",
       "    <tr>\n",
       "      <th>2013</th>\n",
       "      <td>34.059</td>\n",
       "      <td>68.135861</td>\n",
       "      <td>89.03</td>\n",
       "      <td>6.884</td>\n",
       "      <td>40.1331</td>\n",
       "      <td>51.943826</td>\n",
       "      <td>86.224</td>\n",
       "      <td>59.1855</td>\n",
       "      <td>0.346590</td>\n",
       "      <td>0.000002</td>\n",
       "    </tr>\n",
       "    <tr>\n",
       "      <th>2014</th>\n",
       "      <td>33.955</td>\n",
       "      <td>68.265184</td>\n",
       "      <td>88.413</td>\n",
       "      <td>6.084</td>\n",
       "      <td>40.0703</td>\n",
       "      <td>52.030847</td>\n",
       "      <td>86.186</td>\n",
       "      <td>59.0544</td>\n",
       "      <td>0.348599</td>\n",
       "      <td>0.000002</td>\n",
       "    </tr>\n",
       "    <tr>\n",
       "      <th>2015</th>\n",
       "      <td>33.814</td>\n",
       "      <td>68.435882</td>\n",
       "      <td>88.088</td>\n",
       "      <td>6.133</td>\n",
       "      <td>40.4414</td>\n",
       "      <td>52.161262</td>\n",
       "      <td>86.133</td>\n",
       "      <td>58.8137</td>\n",
       "      <td>0.338510</td>\n",
       "      <td>0.000003</td>\n",
       "    </tr>\n",
       "    <tr>\n",
       "      <th>2016</th>\n",
       "      <td>33.447</td>\n",
       "      <td>68.533892</td>\n",
       "      <td>89.088</td>\n",
       "      <td>6.171</td>\n",
       "      <td>40.3123</td>\n",
       "      <td>52.207551</td>\n",
       "      <td>86.053</td>\n",
       "      <td>59.1759</td>\n",
       "      <td>0.339023</td>\n",
       "      <td>0.000003</td>\n",
       "    </tr>\n",
       "    <tr>\n",
       "      <th>2017</th>\n",
       "      <td>33.395</td>\n",
       "      <td>68.624266</td>\n",
       "      <td>88.919</td>\n",
       "      <td>5.998</td>\n",
       "      <td>40.196</td>\n",
       "      <td>52.208124</td>\n",
       "      <td>86.035</td>\n",
       "      <td>59.128</td>\n",
       "      <td>0.340970</td>\n",
       "      <td>0.000003</td>\n",
       "    </tr>\n",
       "  </tbody>\n",
       "</table>\n",
       "</div>"
      ],
      "text/plain": [
       "     min labor participation  mean total labor participation  \\\n",
       "1990                  35.406                       66.471932   \n",
       "1991                  35.914                       66.557536   \n",
       "1992                  36.266                       66.612174   \n",
       "1993                  36.254                       66.631768   \n",
       "1994                  36.607                       66.700350   \n",
       "1995                  36.249                       66.712914   \n",
       "1996                   36.07                       66.733239   \n",
       "1997                  36.293                       66.739258   \n",
       "1998                  36.352                       66.808593   \n",
       "1999                  36.347                       66.849743   \n",
       "2000                  35.976                       66.813002   \n",
       "2001                  35.648                       66.905645   \n",
       "2002                  35.483                       66.940394   \n",
       "2003                  35.276                       67.018733   \n",
       "2004                   35.02                       67.108320   \n",
       "2005                  34.749                       67.310565   \n",
       "2006                  34.625                       67.509398   \n",
       "2007                  34.211                       67.652493   \n",
       "2008                  34.122                       67.761381   \n",
       "2009                  34.423                       67.779127   \n",
       "2010                  34.388                       67.764624   \n",
       "2011                      34                       67.858002   \n",
       "2012                  33.955                       68.007810   \n",
       "2013                  34.059                       68.135861   \n",
       "2014                  33.955                       68.265184   \n",
       "2015                  33.814                       68.435882   \n",
       "2016                  33.447                       68.533892   \n",
       "2017                  33.395                       68.624266   \n",
       "\n",
       "     max labor participation min female labor participation  \\\n",
       "1990                  91.542                          8.116   \n",
       "1991                  91.109                          8.182   \n",
       "1992                   90.59                          8.252   \n",
       "1993                  89.987                          8.325   \n",
       "1994                  89.335                          8.398   \n",
       "1995                  88.615                          8.472   \n",
       "1996                   88.55                          8.558   \n",
       "1997                  88.489                          8.644   \n",
       "1998                  88.693                          9.229   \n",
       "1999                  88.912                           9.85   \n",
       "2000                  88.943                         10.507   \n",
       "2001                  88.736                         11.201   \n",
       "2002                  88.381                         11.931   \n",
       "2003                  87.969                         11.902   \n",
       "2004                  87.941                         12.049   \n",
       "2005                  87.894                         12.201   \n",
       "2006                  88.513                         12.543   \n",
       "2007                  89.071                         12.462   \n",
       "2008                  89.565                           11.6   \n",
       "2009                  89.991                         10.797   \n",
       "2010                   90.34                         10.049   \n",
       "2011                  89.984                          8.848   \n",
       "2012                  89.555                            7.8   \n",
       "2013                   89.03                          6.884   \n",
       "2014                  88.413                          6.084   \n",
       "2015                  88.088                          6.133   \n",
       "2016                  89.088                          6.171   \n",
       "2017                  88.919                          5.998   \n",
       "\n",
       "     predicted min female labor participation  \\\n",
       "1990                                  40.0798   \n",
       "1991                                  40.3265   \n",
       "1992                                  40.3449   \n",
       "1993                                  40.4544   \n",
       "1994                                  40.8038   \n",
       "1995                                  40.5628   \n",
       "1996                                   40.551   \n",
       "1997                                  40.6429   \n",
       "1998                                  40.5827   \n",
       "1999                                  40.7586   \n",
       "2000                                  40.6514   \n",
       "2001                                  40.2076   \n",
       "2002                                  40.0719   \n",
       "2003                                  39.9596   \n",
       "2004                                  39.8229   \n",
       "2005                                  39.9719   \n",
       "2006                                  39.7356   \n",
       "2007                                  39.5761   \n",
       "2008                                  39.5761   \n",
       "2009                                  39.9385   \n",
       "2010                                  39.9624   \n",
       "2011                                   39.932   \n",
       "2012                                  40.1128   \n",
       "2013                                  40.1331   \n",
       "2014                                  40.0703   \n",
       "2015                                  40.4414   \n",
       "2016                                  40.3123   \n",
       "2017                                   40.196   \n",
       "\n",
       "      mean female labor participation max female labor participation  \\\n",
       "1990                        48.221812                         90.784   \n",
       "1991                        48.411794                         90.345   \n",
       "1992                        48.551201                         89.845   \n",
       "1993                        48.618906                         89.283   \n",
       "1994                        48.821452                         88.665   \n",
       "1995                        48.925758                         87.993   \n",
       "1996                        49.083246                         87.262   \n",
       "1997                        49.255479                         86.925   \n",
       "1998                        49.447344                         87.223   \n",
       "1999                        49.665088                         87.448   \n",
       "2000                        49.760365                         87.611   \n",
       "2001                        49.990312                         87.704   \n",
       "2002                        50.161500                         87.747   \n",
       "2003                        50.330439                         87.744   \n",
       "2004                        50.490045                         87.423   \n",
       "2005                        50.792135                         87.054   \n",
       "2006                        51.087241                         86.632   \n",
       "2007                        51.290957                         86.157   \n",
       "2008                        51.450182                          86.19   \n",
       "2009                        51.535530                         86.699   \n",
       "2010                        51.543662                         87.118   \n",
       "2011                        51.652620                         86.861   \n",
       "2012                        51.863920                         86.553   \n",
       "2013                        51.943826                         86.224   \n",
       "2014                        52.030847                         86.186   \n",
       "2015                        52.161262                         86.133   \n",
       "2016                        52.207551                         86.053   \n",
       "2017                        52.208124                         86.035   \n",
       "\n",
       "     predicted max female labor participation     coeff      pval  \n",
       "1990                                  54.7924  0.262088  0.000379  \n",
       "1991                                  54.8897  0.263851  0.000345  \n",
       "1992                                  55.0354  0.270423  0.000241  \n",
       "1993                                   54.896  0.268767  0.000264  \n",
       "1994                                  54.8519  0.266427  0.000300  \n",
       "1995                                  54.9383  0.274520  0.000192  \n",
       "1996                                  55.1539  0.278255  0.000155  \n",
       "1997                                   55.408  0.282879  0.000119  \n",
       "1998                                   55.817  0.291058  0.000074  \n",
       "1999                                   56.107  0.291989  0.000070  \n",
       "2000                                  56.2973  0.295390  0.000057  \n",
       "2001                                  56.8226  0.312971  0.000019  \n",
       "2002                                  57.0383  0.320738  0.000011  \n",
       "2003                                  57.1752  0.326717  0.000008  \n",
       "2004                                  57.4154  0.332430  0.000005  \n",
       "2005                                   57.632  0.332302  0.000005  \n",
       "2006                                  58.3377  0.345200  0.000002  \n",
       "2007                                   58.794  0.350309  0.000001  \n",
       "2008                                  59.1464  0.352981  0.000001  \n",
       "2009                                   59.258  0.347672  0.000002  \n",
       "2010                                   59.377  0.346986  0.000002  \n",
       "2011                                   59.312  0.346170  0.000002  \n",
       "2012                                  59.2995  0.345085  0.000002  \n",
       "2013                                  59.1855  0.346590  0.000002  \n",
       "2014                                  59.0544  0.348599  0.000002  \n",
       "2015                                  58.8137  0.338510  0.000003  \n",
       "2016                                  59.1759  0.339023  0.000003  \n",
       "2017                                   59.128  0.340970  0.000003  "
      ]
     },
     "execution_count": 140,
     "metadata": {},
     "output_type": "execute_result"
    }
   ],
   "source": [
    "dfcorrelation.to_csv('dfcorrelation.csv')\n",
    "dfcorrelation"
   ]
  },
  {
   "cell_type": "code",
   "execution_count": null,
   "metadata": {
    "nbpresent": {
     "id": "1e2c1c2b-fccc-482c-ae81-e41eac3fe925"
    }
   },
   "outputs": [],
   "source": []
  }
 ],
 "metadata": {
  "kernelspec": {
   "display_name": "Python [conda env:gwarl]",
   "language": "python",
   "name": "conda-env-gwarl-py"
  },
  "language_info": {
   "codemirror_mode": {
    "name": "ipython",
    "version": 3
   },
   "file_extension": ".py",
   "mimetype": "text/x-python",
   "name": "python",
   "nbconvert_exporter": "python",
   "pygments_lexer": "ipython3",
   "version": "3.6.5"
  },
  "nbpresent": {
   "slides": {
    "4e196856-9fcf-4fe8-bd39-86f44fc8a064": {
     "id": "4e196856-9fcf-4fe8-bd39-86f44fc8a064",
     "prev": "914dc584-1f3f-4339-8a32-8d4ca6e792d1",
     "regions": {
      "1c04233c-4d7d-415c-ac2d-60393d221f22": {
       "attrs": {
        "height": 0.8,
        "width": 0.8,
        "x": 0.1,
        "y": 0.1
       },
       "content": {
        "cell": "1e2c1c2b-fccc-482c-ae81-e41eac3fe925",
        "part": "whole"
       },
       "id": "1c04233c-4d7d-415c-ac2d-60393d221f22"
      }
     }
    },
    "67a36c13-e210-4681-924c-753edc81c6ab": {
     "id": "67a36c13-e210-4681-924c-753edc81c6ab",
     "prev": "d87089cf-342b-41ba-9497-77d2de6df2b6",
     "regions": {
      "6aab501d-a1a8-4017-a6fc-805fd87445bc": {
       "attrs": {
        "height": 0.8,
        "width": 0.8,
        "x": 0.1,
        "y": 0.1
       },
       "content": {
        "cell": "94c5663f-7446-469c-9987-690fa18d24bb",
        "part": "whole"
       },
       "id": "6aab501d-a1a8-4017-a6fc-805fd87445bc"
      }
     }
    },
    "76772516-70a4-4fe9-b281-1255d9df1595": {
     "id": "76772516-70a4-4fe9-b281-1255d9df1595",
     "prev": "878cd63e-d685-4056-8d8e-e6959d70610b",
     "regions": {
      "8d2a6277-91b8-4d29-a72b-9b08af835fd2": {
       "attrs": {
        "height": 0.8,
        "width": 0.8,
        "x": 0.1,
        "y": 0.1
       },
       "content": {
        "cell": "e5d2c07a-932b-48bb-b38b-d3fad61d95c7",
        "part": "whole"
       },
       "id": "8d2a6277-91b8-4d29-a72b-9b08af835fd2"
      }
     }
    },
    "878cd63e-d685-4056-8d8e-e6959d70610b": {
     "id": "878cd63e-d685-4056-8d8e-e6959d70610b",
     "prev": "cff01677-69f7-4248-ad0f-f544e46fafa2",
     "regions": {
      "8e0e5995-f305-4aec-81bd-1e48347e107f": {
       "attrs": {
        "height": 0.8,
        "width": 0.8,
        "x": 0.1,
        "y": 0.1
       },
       "content": {
        "cell": "6d84c658-7bd0-4102-beb1-47b440dfc144",
        "part": "whole"
       },
       "id": "8e0e5995-f305-4aec-81bd-1e48347e107f"
      }
     }
    },
    "914dc584-1f3f-4339-8a32-8d4ca6e792d1": {
     "id": "914dc584-1f3f-4339-8a32-8d4ca6e792d1",
     "prev": "76772516-70a4-4fe9-b281-1255d9df1595",
     "regions": {
      "1e98c23b-4c31-4b0f-a917-e6479856cacf": {
       "attrs": {
        "height": 0.8,
        "width": 0.8,
        "x": 0.1,
        "y": 0.1
       },
       "content": {
        "cell": "32d258d8-2f62-40fe-bdf7-ee6494fc2408",
        "part": "whole"
       },
       "id": "1e98c23b-4c31-4b0f-a917-e6479856cacf"
      }
     }
    },
    "cff01677-69f7-4248-ad0f-f544e46fafa2": {
     "id": "cff01677-69f7-4248-ad0f-f544e46fafa2",
     "prev": "67a36c13-e210-4681-924c-753edc81c6ab",
     "regions": {
      "652512d1-6759-46ab-b9d4-437f99fcda04": {
       "attrs": {
        "height": 0.8,
        "width": 0.8,
        "x": 0.1,
        "y": 0.1
       },
       "content": {
        "cell": "7b632d1e-1b6b-4878-ac3d-5d1c3d45d41e",
        "part": "whole"
       },
       "id": "652512d1-6759-46ab-b9d4-437f99fcda04"
      }
     }
    },
    "d87089cf-342b-41ba-9497-77d2de6df2b6": {
     "id": "d87089cf-342b-41ba-9497-77d2de6df2b6",
     "prev": "de1899ea-606b-4e70-a008-07f216e55cf0",
     "regions": {
      "0f8cebbc-7bda-4e25-b7af-803fc2e6bd9e": {
       "attrs": {
        "height": 0.8,
        "width": 0.8,
        "x": 0.1,
        "y": 0.1
       },
       "content": {
        "cell": "7f1611c0-f4d1-413d-8391-35722bb8c0e8",
        "part": "whole"
       },
       "id": "0f8cebbc-7bda-4e25-b7af-803fc2e6bd9e"
      }
     }
    },
    "de1899ea-606b-4e70-a008-07f216e55cf0": {
     "id": "de1899ea-606b-4e70-a008-07f216e55cf0",
     "prev": null,
     "regions": {
      "7f212d94-369e-482c-a606-4a3739f27186": {
       "attrs": {
        "height": 0.8,
        "width": 0.8,
        "x": 0.1,
        "y": 0.1
       },
       "content": {
        "cell": "49c52585-3e2b-466f-b97d-b3f48b1464cf",
        "part": "whole"
       },
       "id": "7f212d94-369e-482c-a606-4a3739f27186"
      }
     }
    }
   },
   "themes": {
    "default": "eb9d375f-d1d2-42c4-be81-dbc2a1638752",
    "theme": {
     "b6a78f9e-580e-4db9-bc96-7b0826aea20e": {
      "backgrounds": {
       "backgroundColor": {
        "background-color": "backgroundColor",
        "id": "backgroundColor"
       }
      },
      "id": "b6a78f9e-580e-4db9-bc96-7b0826aea20e",
      "palette": {
       "backgroundColor": {
        "id": "backgroundColor",
        "rgb": [
         256,
         256,
         256
        ]
       },
       "headingColor": {
        "id": "headingColor",
        "rgb": [
         0,
         0,
         0
        ]
       },
       "linkColor": {
        "id": "linkColor",
        "rgb": [
         0,
         0,
         139
        ]
       },
       "mainColor": {
        "id": "mainColor",
        "rgb": [
         0,
         0,
         0
        ]
       }
      },
      "rules": {
       "a": {
        "color": "linkColor"
       },
       "h1": {
        "color": "headingColor",
        "font-family": "News Cycle",
        "font-size": 7
       },
       "h2": {
        "color": "headingColor",
        "font-family": "News Cycle",
        "font-size": 5
       },
       "h3": {
        "color": "headingColor",
        "font-family": "News Cycle",
        "font-size": 3.75
       },
       "h4": {
        "color": "headingColor",
        "font-family": "News Cycle",
        "font-size": 3
       },
       "h5": {
        "color": "headingColor",
        "font-family": "News Cycle"
       },
       "h6": {
        "color": "headingColor",
        "font-family": "News Cycle"
       },
       "h7": {
        "color": "headingColor",
        "font-family": "News Cycle"
       },
       "li": {
        "color": "mainColor",
        "font-family": "Lato",
        "font-size": 5
       },
       "p": {
        "color": "mainColor",
        "font-family": "Lato",
        "font-size": 5
       }
      },
      "text-base": {
       "color": "mainColor",
       "font-family": "Lato",
       "font-size": 5
      }
     },
     "cc529787-14e4-45e8-b7dc-92c365a17b23": {
      "backgrounds": {
       "backgroundColor": {
        "background-color": "backgroundColor",
        "id": "backgroundColor"
       }
      },
      "id": "cc529787-14e4-45e8-b7dc-92c365a17b23",
      "palette": {
       "backgroundColor": {
        "id": "backgroundColor",
        "rgb": [
         34,
         34,
         34
        ]
       },
       "headingColor": {
        "id": "headingColor",
        "rgb": [
         256,
         256,
         256
        ]
       },
       "linkColor": {
        "id": "linkColor",
        "rgb": [
         66,
         175,
         250
        ]
       },
       "mainColor": {
        "id": "mainColor",
        "rgb": [
         256,
         256,
         256
        ]
       }
      },
      "rules": {
       "a": {
        "color": "linkColor"
       },
       "h1": {
        "color": "headingColor",
        "font-family": "Source Sans Pro",
        "font-size": 5.25
       },
       "h2": {
        "color": "headingColor",
        "font-family": "Source Sans Pro",
        "font-size": 4
       },
       "h3": {
        "color": "headingColor",
        "font-family": "Source Sans Pro",
        "font-size": 3.5
       },
       "h4": {
        "color": "headingColor",
        "font-family": "Source Sans Pro",
        "font-size": 3
       },
       "h5": {
        "color": "headingColor",
        "font-family": "Source Sans Pro"
       },
       "h6": {
        "color": "headingColor",
        "font-family": "Source Sans Pro"
       },
       "h7": {
        "color": "headingColor",
        "font-family": "Source Sans Pro"
       },
       "li": {
        "color": "mainColor",
        "font-family": "Source Sans Pro",
        "font-size": 6
       },
       "p": {
        "color": "mainColor",
        "font-family": "Source Sans Pro",
        "font-size": 6
       }
      },
      "text-base": {
       "color": "mainColor",
       "font-family": "Source Sans Pro",
       "font-size": 6
      }
     }
    }
   }
  }
 },
 "nbformat": 4,
 "nbformat_minor": 2
}
