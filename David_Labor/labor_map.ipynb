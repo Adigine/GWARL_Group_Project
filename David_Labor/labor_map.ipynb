{
 "cells": [
  {
   "cell_type": "code",
   "execution_count": 7,
   "metadata": {},
   "outputs": [],
   "source": [
    "import matplotlib.pyplot as plt\n",
    "import pandas as pd\n",
    "import geopandas as gpd\n",
    "\n",
    "datafile = 'lab_ratio.csv'\n",
    "shapefile = 'ne_10m_admin_0_countries/ne_10m_admin_0_countries.shp'\n",
    "\n",
    "colors = 9\n",
    "cmap = 'Blues'\n",
    "figsize = (16, 10)\n",
    "year = '2017'\n",
    "cols = ['Country Name', 'Country Code', year]"
   ]
  },
  {
   "cell_type": "code",
   "execution_count": 8,
   "metadata": {},
   "outputs": [
    {
     "data": {
      "text/html": [
       "<div>\n",
       "<style scoped>\n",
       "    .dataframe tbody tr th:only-of-type {\n",
       "        vertical-align: middle;\n",
       "    }\n",
       "\n",
       "    .dataframe tbody tr th {\n",
       "        vertical-align: top;\n",
       "    }\n",
       "\n",
       "    .dataframe thead th {\n",
       "        text-align: right;\n",
       "    }\n",
       "</style>\n",
       "<table border=\"1\" class=\"dataframe\">\n",
       "  <thead>\n",
       "    <tr style=\"text-align: right;\">\n",
       "      <th></th>\n",
       "      <th>ADM0_A3</th>\n",
       "      <th>geometry</th>\n",
       "    </tr>\n",
       "  </thead>\n",
       "  <tbody>\n",
       "    <tr>\n",
       "      <th>240</th>\n",
       "      <td>VUT</td>\n",
       "      <td>(POLYGON ((15756578.14783512 -2154097.58694996...</td>\n",
       "    </tr>\n",
       "    <tr>\n",
       "      <th>222</th>\n",
       "      <td>IMN</td>\n",
       "      <td>POLYGON ((-366686.1658957533 5742851.060736715...</td>\n",
       "    </tr>\n",
       "    <tr>\n",
       "      <th>170</th>\n",
       "      <td>KAB</td>\n",
       "      <td>POLYGON ((5348488.767994693 4864529.143791911,...</td>\n",
       "    </tr>\n",
       "    <tr>\n",
       "      <th>248</th>\n",
       "      <td>PGA</td>\n",
       "      <td>(POLYGON ((10847213.06542454 1094919.625027534...</td>\n",
       "    </tr>\n",
       "    <tr>\n",
       "      <th>37</th>\n",
       "      <td>ZAF</td>\n",
       "      <td>(POLYGON ((1837807.708257106 -2647327.86042567...</td>\n",
       "    </tr>\n",
       "  </tbody>\n",
       "</table>\n",
       "</div>"
      ],
      "text/plain": [
       "    ADM0_A3                                           geometry\n",
       "240     VUT  (POLYGON ((15756578.14783512 -2154097.58694996...\n",
       "222     IMN  POLYGON ((-366686.1658957533 5742851.060736715...\n",
       "170     KAB  POLYGON ((5348488.767994693 4864529.143791911,...\n",
       "248     PGA  (POLYGON ((10847213.06542454 1094919.625027534...\n",
       "37      ZAF  (POLYGON ((1837807.708257106 -2647327.86042567..."
      ]
     },
     "execution_count": 8,
     "metadata": {},
     "output_type": "execute_result"
    }
   ],
   "source": [
    "gdf = gpd.read_file(shapefile)[['ADM0_A3', 'geometry']].to_crs('+proj=robin')\n",
    "gdf.sample(5)"
   ]
  },
  {
   "cell_type": "code",
   "execution_count": null,
   "metadata": {},
   "outputs": [],
   "source": [
    "merged_df = pd.merge(female_lit, malelit, how='inner', on=['Country Code'], suffixes=('_flit', '_mlit'))"
   ]
  }
 ],
 "metadata": {
  "kernelspec": {
   "display_name": "Python [conda env:gwarl]",
   "language": "python",
   "name": "conda-env-gwarl-py"
  },
  "language_info": {
   "codemirror_mode": {
    "name": "ipython",
    "version": 3
   },
   "file_extension": ".py",
   "mimetype": "text/x-python",
   "name": "python",
   "nbconvert_exporter": "python",
   "pygments_lexer": "ipython3",
   "version": "3.6.5"
  }
 },
 "nbformat": 4,
 "nbformat_minor": 2
}
