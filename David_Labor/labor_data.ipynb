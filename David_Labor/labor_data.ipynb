{
 "cells": [
  {
   "cell_type": "code",
   "execution_count": 86,
   "metadata": {
    "nbpresent": {
     "id": "42d8b3a6-ded5-4abf-bbba-0ec5be6c3169"
    },
    "scrolled": true
   },
   "outputs": [
    {
     "data": {
      "text/plain": [
       "Index(['Country Name', 'Country Code', 'Indicator Name', 'Indicator Code',\n",
       "       '1960', '1961', '1962', '1963', '1964', '1965', '1966', '1967', '1968',\n",
       "       '1969', '1970', '1971', '1972', '1973', '1974', '1975', '1976', '1977',\n",
       "       '1978', '1979', '1980', '1981', '1982', '1983', '1984', '1985', '1986',\n",
       "       '1987', '1988', '1989', '1990', '1991', '1992', '1993', '1994', '1995',\n",
       "       '1996', '1997', '1998', '1999', '2000', '2001', '2002', '2003', '2004',\n",
       "       '2005', '2006', '2007', '2008', '2009', '2010', '2011', '2012', '2013',\n",
       "       '2014', '2015', '2016', '2017'],\n",
       "      dtype='object')"
      ]
     },
     "execution_count": 86,
     "metadata": {},
     "output_type": "execute_result"
    }
   ],
   "source": [
    "import pandas as pd\n",
    "import numpy as np\n",
    "import matplotlib as plt\n",
    "from scipy.stats import pearsonr\n",
    "import numpy as np\n",
    "\n",
    "csv_fem_lab = \"../Resources/labor_force_female.csv\"\n",
    "csv_male_lab = \"../Resources/labor_male.csv\"\n",
    "csv_total_lab = \"../Resources/labor_total.csv\"\n",
    "csv_lab_perc_fem = \"../Resources/labor_perc_fem.csv\"\n",
    "\n",
    "\n",
    "# Labor force participation rate(% of population ages 15-64); among women, men, and total\n",
    "fem_lab = pd.read_csv(csv_fem_lab)\n",
    "male_lab = pd.read_csv(csv_male_lab)\n",
    "total_lab = pd.read_csv(csv_total_lab)\n",
    "\n",
    "# % of labor force that are women (will reflect any skew in gender proportions in a given country)\n",
    "lab_perc_fem = pd.read_csv(csv_lab_perc_fem)\n",
    "fem_lab.columns"
   ]
  },
  {
   "cell_type": "code",
   "execution_count": 87,
   "metadata": {
    "nbpresent": {
     "id": "4d238d1e-67da-4038-ae52-cf92d7207f07"
    }
   },
   "outputs": [],
   "source": [
    "# Function to clean up data sets and use only country-level data, no regions or WB categories\n",
    "country_list = ['AFG', 'ALB', 'DZA', 'ASM', 'AND', 'AGO', 'AIA', 'ATG', 'ARG', 'ARM', 'ABW', 'AUS', 'AUT', 'AZE', 'BHS', 'BHR', 'BGD', 'BRB', 'BLR', 'BEL', 'BLX', 'BLZ', 'BEN', 'BMU', 'BTN', 'BOL', 'BIH', 'BWA', 'BAT', 'BRA', 'IOT', 'VGB', 'BRN', 'BGR', 'BFA', 'BDI', 'KHM', 'CMR', 'CAN', 'CPV', 'CYM', 'CAF', 'TCD', 'CHL', 'CHN', 'CXR', 'CCK', 'COL', 'COM', 'ZAR', 'COG', 'COK', 'CRI', 'CIV', 'HRV', 'CUB', 'CYP', 'CZE', 'CSK', 'DNK', 'DJI', 'DMA', 'DOM', 'TMP', 'ECU', 'EGY', 'SLV', 'GNQ', 'ERI', 'EST', 'ETH', 'ETF', 'EUN', 'FRO', 'FLK', 'FJI', 'FIN', 'PCZ', 'ZW1', 'TAN', 'VDR', 'SVR', 'ZPM', 'ATF', 'FRA', 'FRE', 'GUF', 'PYF', 'GAB', 'GMB', 'GAZ', 'GEO', 'DDR', 'DEU', 'GHA', 'GIB', 'GRC', 'GRL', 'GRD', 'GLP', 'GUM', 'GTM', 'GIN', 'GNB', 'GUY', 'HTI', 'VAT', 'HND', 'HKG', 'HUN', 'ISL', 'IND', 'IDN', 'IRN', 'IRQ', 'IRL', 'ISR', 'ITA', 'JAM', 'JPN', 'JTN', 'JOR', 'KAZ', 'KEN', 'KIR', 'PRK', 'KOR', 'KWT', 'KGZ', 'LAO', 'LVA', 'LBN', 'LSO', 'LBR', 'LBY', 'LIE', 'LTU', 'LUX', 'MAC', 'MKD', 'MDG', 'MWI', 'MYS', 'MDV', 'MLI', 'MLT', 'MHL', 'MTQ', 'MRT', 'MUS', 'MEX', 'FSM', 'MID', 'MDA', 'MCO', 'MNG', 'MSR', 'MAR', 'MOZ', 'MMR', 'NAM', 'NRU', 'NPL', 'NLD', 'ANT', 'NZE', 'NCL', 'NZL', 'NIC', 'NER', 'NGA', 'NIU', 'NFK', 'MNP', 'NOR', 'OMN', 'PCE', 'PAK', 'PLW', 'PAN', 'PNG', 'PRY', 'PMY', 'PER', 'PHL', 'PCN', 'POL', 'PRT', 'PRI', 'QAT', 'REU', 'ROM', 'RUS', 'RWA', 'RYU', 'SBH', 'SHN', 'KN1', 'SPM', 'WSM', 'SMR', 'STP', 'SWK', 'SAU', 'SEN', 'SYC', 'SLE', 'SIK', 'SGP', 'SVK', 'SVN', 'SLB', 'SOM', 'ZAF', 'SVU', 'ESP', 'SPE', 'LKA', 'KNA', 'LCA', 'VCT', 'SDN', 'SUR', 'SJM', 'SWZ', 'SWE', 'CHE', 'SYR', 'TWN', 'TJK', 'TZA', 'THA', 'TGO', 'TKL', 'TON', 'TTO', 'TUN', 'TUR', 'TKM', 'TCA', 'TUV', 'UGA', 'UKR', 'ARE', 'GBR', 'USA', 'UNS', 'URY', 'USP', 'UZB', 'VUT', 'VEN', 'VNM', 'VIR', 'WAK', 'WLF', 'ESH', 'WLD', 'YDR', 'YEM', 'SER', 'YUG', 'ZMB', 'ZWE']\n",
    "\n",
    "def clean_df(df):\n",
    "    df.index = df['Country Code']\n",
    "    df = df[df['Country Code'].isin(country_list)]\n",
    "    df = df.drop(columns=['Indicator Code', 'Country Code',\n",
    "       '1960', '1961', '1962', '1963', '1964', '1965', '1966', '1967', '1968',\n",
    "       '1969', '1970', '1971', '1972', '1973', '1974', '1975', '1976', '1977',\n",
    "       '1978', '1979', '1980', '1981', '1982', '1983', '1984', '1985', '1986',\n",
    "       '1987', '1988', '1989'])\n",
    "    df = df.dropna(how='any', thresh=3)\n",
    "    return df\n",
    "\n",
    "fem_lab = clean_df(fem_lab)\n",
    "male_lab = clean_df(male_lab)\n",
    "total_lab = clean_df(total_lab)\n",
    "lab_perc_fem = clean_df(lab_perc_fem)"
   ]
  },
  {
   "cell_type": "code",
   "execution_count": 134,
   "metadata": {
    "nbpresent": {
     "id": "49c52585-3e2b-466f-b97d-b3f48b1464cf"
    }
   },
   "outputs": [
    {
     "data": {
      "text/plain": [
       "Country Name                                            Afghanistan\n",
       "Indicator Name    Labor force participation rate, female (% of f...\n",
       "1990                                                          8.116\n",
       "1991                                                          8.182\n",
       "1992                                                          8.252\n",
       "1993                                                          8.325\n",
       "1994                                                          8.398\n",
       "1995                                                          8.472\n",
       "1996                                                          8.558\n",
       "1997                                                          8.644\n",
       "1998                                                          9.229\n",
       "1999                                                           9.85\n",
       "2000                                                         10.507\n",
       "2001                                                         11.201\n",
       "2002                                                         11.931\n",
       "2003                                                         11.902\n",
       "2004                                                         12.049\n",
       "2005                                                         12.201\n",
       "2006                                                         12.543\n",
       "2007                                                         12.462\n",
       "2008                                                           11.6\n",
       "2009                                                         10.797\n",
       "2010                                                         10.049\n",
       "2011                                                          8.848\n",
       "2012                                                            7.8\n",
       "2013                                                          6.884\n",
       "2014                                                          6.084\n",
       "2015                                                          6.133\n",
       "2016                                                          6.171\n",
       "2017                                                          5.998\n",
       "dtype: object"
      ]
     },
     "execution_count": 134,
     "metadata": {},
     "output_type": "execute_result"
    }
   ],
   "source": [
    "fem_lab.min()"
   ]
  },
  {
   "cell_type": "code",
   "execution_count": 89,
   "metadata": {
    "nbpresent": {
     "id": "7f1611c0-f4d1-413d-8391-35722bb8c0e8"
    }
   },
   "outputs": [],
   "source": [
    "lab_ratio = fem_lab[['1990', '1991', '1992', '1993', '1994', '1995',\n",
    "       '1996', '1997', '1998', '1999', '2000', '2001', '2002', '2003', '2004',\n",
    "       '2005', '2006', '2007', '2008', '2009', '2010', '2011', '2012', '2013',\n",
    "       '2014', '2015', '2016', '2017']] / male_lab[['1990', '1991', '1992', '1993', '1994', '1995',\n",
    "       '1996', '1997', '1998', '1999', '2000', '2001', '2002', '2003', '2004',\n",
    "       '2005', '2006', '2007', '2008', '2009', '2010', '2011', '2012', '2013',\n",
    "       '2014', '2015', '2016', '2017']]\n",
    "lab_ratio_dif = (fem_lab['2017'] - fem_lab['1990']) / fem_lab['1990']"
   ]
  },
  {
   "cell_type": "code",
   "execution_count": 90,
   "metadata": {
    "nbpresent": {
     "id": "94c5663f-7446-469c-9987-690fa18d24bb"
    }
   },
   "outputs": [],
   "source": [
    "lab_ratio.to_csv('lab_ratio.csv')\n",
    "lab_ratio_dif.to_csv('lab_ratio_dif.csv')"
   ]
  },
  {
   "cell_type": "code",
   "execution_count": 106,
   "metadata": {
    "nbpresent": {
     "id": "7b632d1e-1b6b-4878-ac3d-5d1c3d45d41e"
    }
   },
   "outputs": [],
   "source": [
    "# generating correlation and test of significance between two dataframes\n",
    "\n",
    "# dropping all columns aside from years\n",
    "df1 = total_lab[['1990', '1991', '1992', '1993', '1994', '1995', '1996', '1997', '1998',\n",
    "       '1999', '2000', '2001', '2002', '2003', '2004', '2005', '2006', '2007',\n",
    "       '2008', '2009', '2010', '2011', '2012', '2013', '2014', '2015', '2016',\n",
    "       '2017']]\n",
    "df2 = lab_perc_fem[['1990', '1991', '1992', '1993', '1994', '1995', '1996', '1997', '1998',\n",
    "       '1999', '2000', '2001', '2002', '2003', '2004', '2005', '2006', '2007',\n",
    "       '2008', '2009', '2010', '2011', '2012', '2013', '2014', '2015', '2016',\n",
    "       '2017']]\n",
    "\n",
    "coeffmat = np.zeros((df1.shape[1], 2))\n",
    "\n",
    "for i in range(df1.shape[1]):\n",
    "    corrtest = pearsonr(df1[df1.columns[i]], df2[df2.columns[i]])  \n",
    "    coeffmat[i,0] = corrtest[0]\n",
    "    coeffmat[i,1] = corrtest[1]\n",
    "\n",
    "dfcorrelation = pd.DataFrame(coeffmat, columns={'coeff', 'pval'}, index=df1.columns)\n",
    "# dfpvals = pd.DataFrame(pvalmat, columns=df2.columns, index=df1.columns)"
   ]
  },
  {
   "cell_type": "code",
   "execution_count": 100,
   "metadata": {
    "nbpresent": {
     "id": "6d84c658-7bd0-4102-beb1-47b440dfc144"
    }
   },
   "outputs": [],
   "source": [
    "#To correlate all columns with each other, not just the corresponding columns of each dataframe:\n",
    "# coeffmat = np.zeros((df1.shape[1], df2.shape[1]))\n",
    "# pvalmat = np.zeros((df1.shape[1], df2.shape[1]))\n",
    "\n",
    "# for i in range(df1.shape[1]):    \n",
    "#     for j in range(df2.shape[1]):        \n",
    "#         corrtest = pearsonr(df1[df1.columns[i]], df2[df2.columns[j]])  \n",
    "\n",
    "#         coeffmat[i,j] = corrtest[0]\n",
    "#         pvalmat[i,j] = corrtest[1]\n",
    "\n",
    "# dfcoeff = pd.DataFrame(coeffmat, columns=df2.columns, index=df1.columns)\n",
    "# print(dfcoeff)\n",
    "\n",
    "# dfpvals = pd.DataFrame(pvalmat, columns=df2.columns, index=df1.columns)\n",
    "# print(dfpvals)"
   ]
  },
  {
   "cell_type": "code",
   "execution_count": 126,
   "metadata": {
    "nbpresent": {
     "id": "e5d2c07a-932b-48bb-b38b-d3fad61d95c7"
    }
   },
   "outputs": [],
   "source": [
    "total_lab_mean = total_lab.mean()\n",
    "total_lab_min = total_lab.min()\n",
    "total_lab_max = total_lab.max()\n",
    "lab_perc_fem_mean = lab_perc_fem.mean()\n",
    "\n",
    "dfcorrelation['mean total labor participation'] = total_lab_mean\n",
    "dfcorrelation['min labor participation'] = total_lab_min\n",
    "dfcorrelation['max labor participation'] = total_lab_max\n",
    "dfcorrelation['mean % labor force female'] = lab_perc_fem_mean\n",
    "dfcorrelation['min % labor force female'] = dfcorrelation['mean % labor force female'] - ((dfcorrelation['mean total labor participation'] \n",
    "                                             - dfcorrelation['min labor participation']) * dfcorrelation['coeff'])\n",
    "dfcorrelation['max % labor force female'] = dfcorrelation['mean % labor force female'] + ((dfcorrelation['max labor participation']\n",
    "                                            - dfcorrelation['mean total labor participation']) * dfcorrelation['coeff'])\n",
    "dfcorrelation = dfcorrelation.reindex(['min labor participation', 'mean total labor participation', \n",
    "                                       'max labor participation', 'min % labor force female', 'mean % labor force female', \n",
    "                                       'max % labor force female', 'coeff', 'pval'], axis=1)"
   ]
  },
  {
   "cell_type": "code",
   "execution_count": 127,
   "metadata": {
    "nbpresent": {
     "id": "32d258d8-2f62-40fe-bdf7-ee6494fc2408"
    }
   },
   "outputs": [
    {
     "data": {
      "text/html": [
       "<div>\n",
       "<style scoped>\n",
       "    .dataframe tbody tr th:only-of-type {\n",
       "        vertical-align: middle;\n",
       "    }\n",
       "\n",
       "    .dataframe tbody tr th {\n",
       "        vertical-align: top;\n",
       "    }\n",
       "\n",
       "    .dataframe thead th {\n",
       "        text-align: right;\n",
       "    }\n",
       "</style>\n",
       "<table border=\"1\" class=\"dataframe\">\n",
       "  <thead>\n",
       "    <tr style=\"text-align: right;\">\n",
       "      <th></th>\n",
       "      <th>min labor participation</th>\n",
       "      <th>mean total labor participation</th>\n",
       "      <th>max labor participation</th>\n",
       "      <th>min % labor force female</th>\n",
       "      <th>mean % labor force female</th>\n",
       "      <th>max % labor force female</th>\n",
       "      <th>coeff</th>\n",
       "      <th>pval</th>\n",
       "    </tr>\n",
       "  </thead>\n",
       "  <tbody>\n",
       "    <tr>\n",
       "      <th>1990</th>\n",
       "      <td>35.406</td>\n",
       "      <td>66.471932</td>\n",
       "      <td>91.542</td>\n",
       "      <td>16.9843</td>\n",
       "      <td>38.231723</td>\n",
       "      <td>55.3783</td>\n",
       "      <td>0.683947</td>\n",
       "      <td>3.632769e-26</td>\n",
       "    </tr>\n",
       "    <tr>\n",
       "      <th>1991</th>\n",
       "      <td>35.914</td>\n",
       "      <td>66.557536</td>\n",
       "      <td>91.109</td>\n",
       "      <td>17.4143</td>\n",
       "      <td>38.381283</td>\n",
       "      <td>55.18</td>\n",
       "      <td>0.684224</td>\n",
       "      <td>3.408637e-26</td>\n",
       "    </tr>\n",
       "    <tr>\n",
       "      <th>1992</th>\n",
       "      <td>36.266</td>\n",
       "      <td>66.612174</td>\n",
       "      <td>90.59</td>\n",
       "      <td>17.7258</td>\n",
       "      <td>38.510794</td>\n",
       "      <td>54.9339</td>\n",
       "      <td>0.684930</td>\n",
       "      <td>2.896070e-26</td>\n",
       "    </tr>\n",
       "    <tr>\n",
       "      <th>1993</th>\n",
       "      <td>36.254</td>\n",
       "      <td>66.631768</td>\n",
       "      <td>89.987</td>\n",
       "      <td>17.9079</td>\n",
       "      <td>38.603669</td>\n",
       "      <td>54.5151</td>\n",
       "      <td>0.681281</td>\n",
       "      <td>6.688910e-26</td>\n",
       "    </tr>\n",
       "    <tr>\n",
       "      <th>1994</th>\n",
       "      <td>36.607</td>\n",
       "      <td>66.700350</td>\n",
       "      <td>89.335</td>\n",
       "      <td>18.5179</td>\n",
       "      <td>38.783534</td>\n",
       "      <td>54.0263</td>\n",
       "      <td>0.673427</td>\n",
       "      <td>3.892272e-25</td>\n",
       "    </tr>\n",
       "    <tr>\n",
       "      <th>1995</th>\n",
       "      <td>36.249</td>\n",
       "      <td>66.712914</td>\n",
       "      <td>88.615</td>\n",
       "      <td>18.5106</td>\n",
       "      <td>38.891609</td>\n",
       "      <td>53.5446</td>\n",
       "      <td>0.669023</td>\n",
       "      <td>1.020752e-24</td>\n",
       "    </tr>\n",
       "    <tr>\n",
       "      <th>1996</th>\n",
       "      <td>36.07</td>\n",
       "      <td>66.733239</td>\n",
       "      <td>88.55</td>\n",
       "      <td>18.4173</td>\n",
       "      <td>39.054441</td>\n",
       "      <td>53.7377</td>\n",
       "      <td>0.673025</td>\n",
       "      <td>4.253303e-25</td>\n",
       "    </tr>\n",
       "    <tr>\n",
       "      <th>1997</th>\n",
       "      <td>36.293</td>\n",
       "      <td>66.739258</td>\n",
       "      <td>88.489</td>\n",
       "      <td>18.7542</td>\n",
       "      <td>39.228579</td>\n",
       "      <td>53.8547</td>\n",
       "      <td>0.672475</td>\n",
       "      <td>4.801280e-25</td>\n",
       "    </tr>\n",
       "    <tr>\n",
       "      <th>1998</th>\n",
       "      <td>36.352</td>\n",
       "      <td>66.808593</td>\n",
       "      <td>88.693</td>\n",
       "      <td>18.9338</td>\n",
       "      <td>39.395047</td>\n",
       "      <td>54.0973</td>\n",
       "      <td>0.671815</td>\n",
       "      <td>5.549732e-25</td>\n",
       "    </tr>\n",
       "    <tr>\n",
       "      <th>1999</th>\n",
       "      <td>36.347</td>\n",
       "      <td>66.849743</td>\n",
       "      <td>88.912</td>\n",
       "      <td>19.2197</td>\n",
       "      <td>39.597421</td>\n",
       "      <td>54.3364</td>\n",
       "      <td>0.668063</td>\n",
       "      <td>1.256565e-24</td>\n",
       "    </tr>\n",
       "    <tr>\n",
       "      <th>2000</th>\n",
       "      <td>35.976</td>\n",
       "      <td>66.813002</td>\n",
       "      <td>88.943</td>\n",
       "      <td>19.2906</td>\n",
       "      <td>39.732392</td>\n",
       "      <td>54.4023</td>\n",
       "      <td>0.662899</td>\n",
       "      <td>3.796598e-24</td>\n",
       "    </tr>\n",
       "    <tr>\n",
       "      <th>2001</th>\n",
       "      <td>35.648</td>\n",
       "      <td>66.905645</td>\n",
       "      <td>88.736</td>\n",
       "      <td>19.0517</td>\n",
       "      <td>39.874098</td>\n",
       "      <td>54.4165</td>\n",
       "      <td>0.666153</td>\n",
       "      <td>1.896235e-24</td>\n",
       "    </tr>\n",
       "    <tr>\n",
       "      <th>2002</th>\n",
       "      <td>35.483</td>\n",
       "      <td>66.940394</td>\n",
       "      <td>88.381</td>\n",
       "      <td>19.0814</td>\n",
       "      <td>40.016412</td>\n",
       "      <td>54.2852</td>\n",
       "      <td>0.665503</td>\n",
       "      <td>2.180067e-24</td>\n",
       "    </tr>\n",
       "    <tr>\n",
       "      <th>2003</th>\n",
       "      <td>35.276</td>\n",
       "      <td>67.018733</td>\n",
       "      <td>87.969</td>\n",
       "      <td>19.0656</td>\n",
       "      <td>40.127162</td>\n",
       "      <td>54.0279</td>\n",
       "      <td>0.663510</td>\n",
       "      <td>3.334846e-24</td>\n",
       "    </tr>\n",
       "    <tr>\n",
       "      <th>2004</th>\n",
       "      <td>35.02</td>\n",
       "      <td>67.108320</td>\n",
       "      <td>87.941</td>\n",
       "      <td>19.1196</td>\n",
       "      <td>40.221825</td>\n",
       "      <td>53.922</td>\n",
       "      <td>0.657629</td>\n",
       "      <td>1.147081e-23</td>\n",
       "    </tr>\n",
       "    <tr>\n",
       "      <th>2005</th>\n",
       "      <td>34.749</td>\n",
       "      <td>67.310565</td>\n",
       "      <td>87.894</td>\n",
       "      <td>19.3573</td>\n",
       "      <td>40.362714</td>\n",
       "      <td>53.6411</td>\n",
       "      <td>0.645098</td>\n",
       "      <td>1.458308e-22</td>\n",
       "    </tr>\n",
       "    <tr>\n",
       "      <th>2006</th>\n",
       "      <td>34.625</td>\n",
       "      <td>67.509398</td>\n",
       "      <td>88.513</td>\n",
       "      <td>19.4019</td>\n",
       "      <td>40.484856</td>\n",
       "      <td>53.9508</td>\n",
       "      <td>0.641124</td>\n",
       "      <td>3.187368e-22</td>\n",
       "    </tr>\n",
       "    <tr>\n",
       "      <th>2007</th>\n",
       "      <td>34.211</td>\n",
       "      <td>67.652493</td>\n",
       "      <td>89.071</td>\n",
       "      <td>19.4659</td>\n",
       "      <td>40.574829</td>\n",
       "      <td>54.0946</td>\n",
       "      <td>0.631219</td>\n",
       "      <td>2.129992e-21</td>\n",
       "    </tr>\n",
       "    <tr>\n",
       "      <th>2008</th>\n",
       "      <td>34.122</td>\n",
       "      <td>67.761381</td>\n",
       "      <td>89.565</td>\n",
       "      <td>19.6892</td>\n",
       "      <td>40.646838</td>\n",
       "      <td>54.2307</td>\n",
       "      <td>0.623009</td>\n",
       "      <td>9.771180e-21</td>\n",
       "    </tr>\n",
       "    <tr>\n",
       "      <th>2009</th>\n",
       "      <td>34.423</td>\n",
       "      <td>67.779127</td>\n",
       "      <td>89.991</td>\n",
       "      <td>20.3508</td>\n",
       "      <td>40.732005</td>\n",
       "      <td>54.3039</td>\n",
       "      <td>0.611018</td>\n",
       "      <td>8.350828e-20</td>\n",
       "    </tr>\n",
       "    <tr>\n",
       "      <th>2010</th>\n",
       "      <td>34.388</td>\n",
       "      <td>67.764624</td>\n",
       "      <td>90.34</td>\n",
       "      <td>20.8016</td>\n",
       "      <td>40.788327</td>\n",
       "      <td>54.307</td>\n",
       "      <td>0.598825</td>\n",
       "      <td>6.754826e-19</td>\n",
       "    </tr>\n",
       "    <tr>\n",
       "      <th>2011</th>\n",
       "      <td>34</td>\n",
       "      <td>67.858002</td>\n",
       "      <td>89.984</td>\n",
       "      <td>20.4956</td>\n",
       "      <td>40.858054</td>\n",
       "      <td>54.1648</td>\n",
       "      <td>0.601409</td>\n",
       "      <td>4.369800e-19</td>\n",
       "    </tr>\n",
       "    <tr>\n",
       "      <th>2012</th>\n",
       "      <td>33.955</td>\n",
       "      <td>68.007810</td>\n",
       "      <td>89.555</td>\n",
       "      <td>20.6617</td>\n",
       "      <td>40.983280</td>\n",
       "      <td>53.8419</td>\n",
       "      <td>0.596767</td>\n",
       "      <td>9.528789e-19</td>\n",
       "    </tr>\n",
       "    <tr>\n",
       "      <th>2013</th>\n",
       "      <td>34.059</td>\n",
       "      <td>68.135861</td>\n",
       "      <td>89.03</td>\n",
       "      <td>20.7607</td>\n",
       "      <td>41.031743</td>\n",
       "      <td>53.4609</td>\n",
       "      <td>0.594864</td>\n",
       "      <td>1.307059e-18</td>\n",
       "    </tr>\n",
       "    <tr>\n",
       "      <th>2014</th>\n",
       "      <td>33.955</td>\n",
       "      <td>68.265184</td>\n",
       "      <td>88.413</td>\n",
       "      <td>20.6893</td>\n",
       "      <td>41.074182</td>\n",
       "      <td>53.0447</td>\n",
       "      <td>0.594134</td>\n",
       "      <td>1.474662e-18</td>\n",
       "    </tr>\n",
       "    <tr>\n",
       "      <th>2015</th>\n",
       "      <td>33.814</td>\n",
       "      <td>68.435882</td>\n",
       "      <td>88.088</td>\n",
       "      <td>20.6553</td>\n",
       "      <td>41.147914</td>\n",
       "      <td>52.7799</td>\n",
       "      <td>0.591896</td>\n",
       "      <td>2.130572e-18</td>\n",
       "    </tr>\n",
       "    <tr>\n",
       "      <th>2016</th>\n",
       "      <td>33.447</td>\n",
       "      <td>68.533892</td>\n",
       "      <td>89.088</td>\n",
       "      <td>20.5117</td>\n",
       "      <td>41.199802</td>\n",
       "      <td>53.319</td>\n",
       "      <td>0.589624</td>\n",
       "      <td>3.086855e-18</td>\n",
       "    </tr>\n",
       "    <tr>\n",
       "      <th>2017</th>\n",
       "      <td>33.395</td>\n",
       "      <td>68.624266</td>\n",
       "      <td>88.919</td>\n",
       "      <td>20.4062</td>\n",
       "      <td>41.220125</td>\n",
       "      <td>53.2106</td>\n",
       "      <td>0.590815</td>\n",
       "      <td>2.542726e-18</td>\n",
       "    </tr>\n",
       "  </tbody>\n",
       "</table>\n",
       "</div>"
      ],
      "text/plain": [
       "     min labor participation  mean total labor participation  \\\n",
       "1990                  35.406                       66.471932   \n",
       "1991                  35.914                       66.557536   \n",
       "1992                  36.266                       66.612174   \n",
       "1993                  36.254                       66.631768   \n",
       "1994                  36.607                       66.700350   \n",
       "1995                  36.249                       66.712914   \n",
       "1996                   36.07                       66.733239   \n",
       "1997                  36.293                       66.739258   \n",
       "1998                  36.352                       66.808593   \n",
       "1999                  36.347                       66.849743   \n",
       "2000                  35.976                       66.813002   \n",
       "2001                  35.648                       66.905645   \n",
       "2002                  35.483                       66.940394   \n",
       "2003                  35.276                       67.018733   \n",
       "2004                   35.02                       67.108320   \n",
       "2005                  34.749                       67.310565   \n",
       "2006                  34.625                       67.509398   \n",
       "2007                  34.211                       67.652493   \n",
       "2008                  34.122                       67.761381   \n",
       "2009                  34.423                       67.779127   \n",
       "2010                  34.388                       67.764624   \n",
       "2011                      34                       67.858002   \n",
       "2012                  33.955                       68.007810   \n",
       "2013                  34.059                       68.135861   \n",
       "2014                  33.955                       68.265184   \n",
       "2015                  33.814                       68.435882   \n",
       "2016                  33.447                       68.533892   \n",
       "2017                  33.395                       68.624266   \n",
       "\n",
       "     max labor participation min % labor force female  \\\n",
       "1990                  91.542                  16.9843   \n",
       "1991                  91.109                  17.4143   \n",
       "1992                   90.59                  17.7258   \n",
       "1993                  89.987                  17.9079   \n",
       "1994                  89.335                  18.5179   \n",
       "1995                  88.615                  18.5106   \n",
       "1996                   88.55                  18.4173   \n",
       "1997                  88.489                  18.7542   \n",
       "1998                  88.693                  18.9338   \n",
       "1999                  88.912                  19.2197   \n",
       "2000                  88.943                  19.2906   \n",
       "2001                  88.736                  19.0517   \n",
       "2002                  88.381                  19.0814   \n",
       "2003                  87.969                  19.0656   \n",
       "2004                  87.941                  19.1196   \n",
       "2005                  87.894                  19.3573   \n",
       "2006                  88.513                  19.4019   \n",
       "2007                  89.071                  19.4659   \n",
       "2008                  89.565                  19.6892   \n",
       "2009                  89.991                  20.3508   \n",
       "2010                   90.34                  20.8016   \n",
       "2011                  89.984                  20.4956   \n",
       "2012                  89.555                  20.6617   \n",
       "2013                   89.03                  20.7607   \n",
       "2014                  88.413                  20.6893   \n",
       "2015                  88.088                  20.6553   \n",
       "2016                  89.088                  20.5117   \n",
       "2017                  88.919                  20.4062   \n",
       "\n",
       "      mean % labor force female max % labor force female     coeff  \\\n",
       "1990                  38.231723                  55.3783  0.683947   \n",
       "1991                  38.381283                    55.18  0.684224   \n",
       "1992                  38.510794                  54.9339  0.684930   \n",
       "1993                  38.603669                  54.5151  0.681281   \n",
       "1994                  38.783534                  54.0263  0.673427   \n",
       "1995                  38.891609                  53.5446  0.669023   \n",
       "1996                  39.054441                  53.7377  0.673025   \n",
       "1997                  39.228579                  53.8547  0.672475   \n",
       "1998                  39.395047                  54.0973  0.671815   \n",
       "1999                  39.597421                  54.3364  0.668063   \n",
       "2000                  39.732392                  54.4023  0.662899   \n",
       "2001                  39.874098                  54.4165  0.666153   \n",
       "2002                  40.016412                  54.2852  0.665503   \n",
       "2003                  40.127162                  54.0279  0.663510   \n",
       "2004                  40.221825                   53.922  0.657629   \n",
       "2005                  40.362714                  53.6411  0.645098   \n",
       "2006                  40.484856                  53.9508  0.641124   \n",
       "2007                  40.574829                  54.0946  0.631219   \n",
       "2008                  40.646838                  54.2307  0.623009   \n",
       "2009                  40.732005                  54.3039  0.611018   \n",
       "2010                  40.788327                   54.307  0.598825   \n",
       "2011                  40.858054                  54.1648  0.601409   \n",
       "2012                  40.983280                  53.8419  0.596767   \n",
       "2013                  41.031743                  53.4609  0.594864   \n",
       "2014                  41.074182                  53.0447  0.594134   \n",
       "2015                  41.147914                  52.7799  0.591896   \n",
       "2016                  41.199802                   53.319  0.589624   \n",
       "2017                  41.220125                  53.2106  0.590815   \n",
       "\n",
       "              pval  \n",
       "1990  3.632769e-26  \n",
       "1991  3.408637e-26  \n",
       "1992  2.896070e-26  \n",
       "1993  6.688910e-26  \n",
       "1994  3.892272e-25  \n",
       "1995  1.020752e-24  \n",
       "1996  4.253303e-25  \n",
       "1997  4.801280e-25  \n",
       "1998  5.549732e-25  \n",
       "1999  1.256565e-24  \n",
       "2000  3.796598e-24  \n",
       "2001  1.896235e-24  \n",
       "2002  2.180067e-24  \n",
       "2003  3.334846e-24  \n",
       "2004  1.147081e-23  \n",
       "2005  1.458308e-22  \n",
       "2006  3.187368e-22  \n",
       "2007  2.129992e-21  \n",
       "2008  9.771180e-21  \n",
       "2009  8.350828e-20  \n",
       "2010  6.754826e-19  \n",
       "2011  4.369800e-19  \n",
       "2012  9.528789e-19  \n",
       "2013  1.307059e-18  \n",
       "2014  1.474662e-18  \n",
       "2015  2.130572e-18  \n",
       "2016  3.086855e-18  \n",
       "2017  2.542726e-18  "
      ]
     },
     "execution_count": 127,
     "metadata": {},
     "output_type": "execute_result"
    }
   ],
   "source": [
    "dfcorrelation.to_csv('dfcorrelation.csv')\n",
    "dfcorrelation"
   ]
  },
  {
   "cell_type": "code",
   "execution_count": null,
   "metadata": {
    "nbpresent": {
     "id": "1e2c1c2b-fccc-482c-ae81-e41eac3fe925"
    }
   },
   "outputs": [],
   "source": []
  }
 ],
 "metadata": {
  "kernelspec": {
   "display_name": "Python [conda env:PythonData]",
   "language": "python",
   "name": "conda-env-PythonData-py"
  },
  "language_info": {
   "codemirror_mode": {
    "name": "ipython",
    "version": 3
   },
   "file_extension": ".py",
   "mimetype": "text/x-python",
   "name": "python",
   "nbconvert_exporter": "python",
   "pygments_lexer": "ipython3",
   "version": "3.6.5"
  },
  "nbpresent": {
   "slides": {
    "4e196856-9fcf-4fe8-bd39-86f44fc8a064": {
     "id": "4e196856-9fcf-4fe8-bd39-86f44fc8a064",
     "prev": "914dc584-1f3f-4339-8a32-8d4ca6e792d1",
     "regions": {
      "1c04233c-4d7d-415c-ac2d-60393d221f22": {
       "attrs": {
        "height": 0.8,
        "width": 0.8,
        "x": 0.1,
        "y": 0.1
       },
       "content": {
        "cell": "1e2c1c2b-fccc-482c-ae81-e41eac3fe925",
        "part": "whole"
       },
       "id": "1c04233c-4d7d-415c-ac2d-60393d221f22"
      }
     }
    },
    "67a36c13-e210-4681-924c-753edc81c6ab": {
     "id": "67a36c13-e210-4681-924c-753edc81c6ab",
     "prev": "d87089cf-342b-41ba-9497-77d2de6df2b6",
     "regions": {
      "6aab501d-a1a8-4017-a6fc-805fd87445bc": {
       "attrs": {
        "height": 0.8,
        "width": 0.8,
        "x": 0.1,
        "y": 0.1
       },
       "content": {
        "cell": "94c5663f-7446-469c-9987-690fa18d24bb",
        "part": "whole"
       },
       "id": "6aab501d-a1a8-4017-a6fc-805fd87445bc"
      }
     }
    },
    "76772516-70a4-4fe9-b281-1255d9df1595": {
     "id": "76772516-70a4-4fe9-b281-1255d9df1595",
     "prev": "878cd63e-d685-4056-8d8e-e6959d70610b",
     "regions": {
      "8d2a6277-91b8-4d29-a72b-9b08af835fd2": {
       "attrs": {
        "height": 0.8,
        "width": 0.8,
        "x": 0.1,
        "y": 0.1
       },
       "content": {
        "cell": "e5d2c07a-932b-48bb-b38b-d3fad61d95c7",
        "part": "whole"
       },
       "id": "8d2a6277-91b8-4d29-a72b-9b08af835fd2"
      }
     }
    },
    "878cd63e-d685-4056-8d8e-e6959d70610b": {
     "id": "878cd63e-d685-4056-8d8e-e6959d70610b",
     "prev": "cff01677-69f7-4248-ad0f-f544e46fafa2",
     "regions": {
      "8e0e5995-f305-4aec-81bd-1e48347e107f": {
       "attrs": {
        "height": 0.8,
        "width": 0.8,
        "x": 0.1,
        "y": 0.1
       },
       "content": {
        "cell": "6d84c658-7bd0-4102-beb1-47b440dfc144",
        "part": "whole"
       },
       "id": "8e0e5995-f305-4aec-81bd-1e48347e107f"
      }
     }
    },
    "914dc584-1f3f-4339-8a32-8d4ca6e792d1": {
     "id": "914dc584-1f3f-4339-8a32-8d4ca6e792d1",
     "prev": "76772516-70a4-4fe9-b281-1255d9df1595",
     "regions": {
      "1e98c23b-4c31-4b0f-a917-e6479856cacf": {
       "attrs": {
        "height": 0.8,
        "width": 0.8,
        "x": 0.1,
        "y": 0.1
       },
       "content": {
        "cell": "32d258d8-2f62-40fe-bdf7-ee6494fc2408",
        "part": "whole"
       },
       "id": "1e98c23b-4c31-4b0f-a917-e6479856cacf"
      }
     }
    },
    "cff01677-69f7-4248-ad0f-f544e46fafa2": {
     "id": "cff01677-69f7-4248-ad0f-f544e46fafa2",
     "prev": "67a36c13-e210-4681-924c-753edc81c6ab",
     "regions": {
      "652512d1-6759-46ab-b9d4-437f99fcda04": {
       "attrs": {
        "height": 0.8,
        "width": 0.8,
        "x": 0.1,
        "y": 0.1
       },
       "content": {
        "cell": "7b632d1e-1b6b-4878-ac3d-5d1c3d45d41e",
        "part": "whole"
       },
       "id": "652512d1-6759-46ab-b9d4-437f99fcda04"
      }
     }
    },
    "d87089cf-342b-41ba-9497-77d2de6df2b6": {
     "id": "d87089cf-342b-41ba-9497-77d2de6df2b6",
     "prev": "de1899ea-606b-4e70-a008-07f216e55cf0",
     "regions": {
      "0f8cebbc-7bda-4e25-b7af-803fc2e6bd9e": {
       "attrs": {
        "height": 0.8,
        "width": 0.8,
        "x": 0.1,
        "y": 0.1
       },
       "content": {
        "cell": "7f1611c0-f4d1-413d-8391-35722bb8c0e8",
        "part": "whole"
       },
       "id": "0f8cebbc-7bda-4e25-b7af-803fc2e6bd9e"
      }
     }
    },
    "de1899ea-606b-4e70-a008-07f216e55cf0": {
     "id": "de1899ea-606b-4e70-a008-07f216e55cf0",
     "prev": null,
     "regions": {
      "7f212d94-369e-482c-a606-4a3739f27186": {
       "attrs": {
        "height": 0.8,
        "width": 0.8,
        "x": 0.1,
        "y": 0.1
       },
       "content": {
        "cell": "49c52585-3e2b-466f-b97d-b3f48b1464cf",
        "part": "whole"
       },
       "id": "7f212d94-369e-482c-a606-4a3739f27186"
      }
     }
    }
   },
   "themes": {
    "default": "eb9d375f-d1d2-42c4-be81-dbc2a1638752",
    "theme": {
     "b6a78f9e-580e-4db9-bc96-7b0826aea20e": {
      "backgrounds": {
       "backgroundColor": {
        "background-color": "backgroundColor",
        "id": "backgroundColor"
       }
      },
      "id": "b6a78f9e-580e-4db9-bc96-7b0826aea20e",
      "palette": {
       "backgroundColor": {
        "id": "backgroundColor",
        "rgb": [
         256,
         256,
         256
        ]
       },
       "headingColor": {
        "id": "headingColor",
        "rgb": [
         0,
         0,
         0
        ]
       },
       "linkColor": {
        "id": "linkColor",
        "rgb": [
         0,
         0,
         139
        ]
       },
       "mainColor": {
        "id": "mainColor",
        "rgb": [
         0,
         0,
         0
        ]
       }
      },
      "rules": {
       "a": {
        "color": "linkColor"
       },
       "h1": {
        "color": "headingColor",
        "font-family": "News Cycle",
        "font-size": 7
       },
       "h2": {
        "color": "headingColor",
        "font-family": "News Cycle",
        "font-size": 5
       },
       "h3": {
        "color": "headingColor",
        "font-family": "News Cycle",
        "font-size": 3.75
       },
       "h4": {
        "color": "headingColor",
        "font-family": "News Cycle",
        "font-size": 3
       },
       "h5": {
        "color": "headingColor",
        "font-family": "News Cycle"
       },
       "h6": {
        "color": "headingColor",
        "font-family": "News Cycle"
       },
       "h7": {
        "color": "headingColor",
        "font-family": "News Cycle"
       },
       "li": {
        "color": "mainColor",
        "font-family": "Lato",
        "font-size": 5
       },
       "p": {
        "color": "mainColor",
        "font-family": "Lato",
        "font-size": 5
       }
      },
      "text-base": {
       "color": "mainColor",
       "font-family": "Lato",
       "font-size": 5
      }
     },
     "cc529787-14e4-45e8-b7dc-92c365a17b23": {
      "backgrounds": {
       "backgroundColor": {
        "background-color": "backgroundColor",
        "id": "backgroundColor"
       }
      },
      "id": "cc529787-14e4-45e8-b7dc-92c365a17b23",
      "palette": {
       "backgroundColor": {
        "id": "backgroundColor",
        "rgb": [
         34,
         34,
         34
        ]
       },
       "headingColor": {
        "id": "headingColor",
        "rgb": [
         256,
         256,
         256
        ]
       },
       "linkColor": {
        "id": "linkColor",
        "rgb": [
         66,
         175,
         250
        ]
       },
       "mainColor": {
        "id": "mainColor",
        "rgb": [
         256,
         256,
         256
        ]
       }
      },
      "rules": {
       "a": {
        "color": "linkColor"
       },
       "h1": {
        "color": "headingColor",
        "font-family": "Source Sans Pro",
        "font-size": 5.25
       },
       "h2": {
        "color": "headingColor",
        "font-family": "Source Sans Pro",
        "font-size": 4
       },
       "h3": {
        "color": "headingColor",
        "font-family": "Source Sans Pro",
        "font-size": 3.5
       },
       "h4": {
        "color": "headingColor",
        "font-family": "Source Sans Pro",
        "font-size": 3
       },
       "h5": {
        "color": "headingColor",
        "font-family": "Source Sans Pro"
       },
       "h6": {
        "color": "headingColor",
        "font-family": "Source Sans Pro"
       },
       "h7": {
        "color": "headingColor",
        "font-family": "Source Sans Pro"
       },
       "li": {
        "color": "mainColor",
        "font-family": "Source Sans Pro",
        "font-size": 6
       },
       "p": {
        "color": "mainColor",
        "font-family": "Source Sans Pro",
        "font-size": 6
       }
      },
      "text-base": {
       "color": "mainColor",
       "font-family": "Source Sans Pro",
       "font-size": 6
      }
     }
    }
   }
  }
 },
 "nbformat": 4,
 "nbformat_minor": 2
}
